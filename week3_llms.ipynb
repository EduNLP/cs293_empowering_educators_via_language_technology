{
  "cells": [
    {
      "attachments": {},
      "cell_type": "markdown",
      "metadata": {
        "id": "Wd_tCa0S93E1"
      },
      "source": [
        "# Week 3: Large Language Models"
      ]
    },
    {
      "cell_type": "code",
      "execution_count": null,
      "metadata": {
        "id": "WhNy3aWU-bG1"
      },
      "outputs": [],
      "source": [
        "__author__ = \"Rose E. Wang, Dorottya Demszky\"\n",
        "__version__ = \"CS293/EDUC473, Stanford, Fall 2023\""
      ]
    },
    {
      "attachments": {},
      "cell_type": "markdown",
      "metadata": {
        "id": "QN0CmcYV93E6"
      },
      "source": [
        "# Table of Contents\n",
        "\n",
        "* [Overview](#overview)\n",
        "* [LLMs for Classification](#llms-for-classification)\n",
        "* [Prompt Development](#prompt-development)\n",
        "* [Model Comparisons](#model-comparisons)\n",
        "* [Extra Assignment](#extra-assignment)\n",
        "\n",
        "# Overview\n",
        "\n",
        "In the final assignment, we'll play with prompting large language models.\n",
        "Specifically, you’ll work with large language models (LLMs) such as [BLOOM](https://huggingface.co/bigscience/bloom) and [BLOOMZ](https://huggingface.co/bigscience/bloomz) (BigScience).\n",
        "Language model prompting is the process of providing a model with an input text, and then having the model generate a response as output.\n",
        "For example, one could provide a language model with the prompt \"The sky is\" and the model might generate the response \"blue\".\n",
        "\n",
        "Prompts can be used to complete a breadth of tasks such as summarization (e.g., “Summarize the following paragraph: \\<paragraph written out here\\> Summary:”) or extraction (e.g., “Extract the phone number from the user bio: \\<bio written out here\\>.”)\n",
        "\n",
        "The assignment is divided into three parts:\n",
        "\n",
        "1. **LLMs for Classification**: In the first part of the assignment, we will revisit the student reasoning classification task from the previous assignment. This time, we'll put the LLM to the task!\n",
        "\n",
        "2. **Prompt development**: In the second part of the assignment, you will explore how to develop effective prompts for LLMs. As part of this process, you may encounter both the joys and pains of prompting.  \n",
        "  * On one hand, the right prompt can get the model to magically solve a seemingly complicated and unrelated task (w.r.t. the model's *training objective*.)  \n",
        "  * On the other, prompting can be a brittle technique, and it may require time, effort, and creativity to develop a sufficient prompt.\n",
        "\n",
        "3. **Model comparisons**: In the final part of the assignment, you will compare the performance (qualitatively and quantitatively) of several LLMs. Model comparisons will be along two dimensions:\n",
        "  * Model Size\n",
        "  * Training Techniques (e.g., vanilla autoregressive vs. instruction-tuned)\n",
        "\n",
        "## Setup\n",
        "\n",
        "Connect to a hosted runtime and change the runtime type to \"GPU\".\n",
        "\n",
        "## Your Deliverables\n",
        "\n",
        "To receive credit for this assignment, please upload the PDF version of your ENTIRE Colab that includes all your code and written responses to Gradescope.\n",
        "\n",
        "## Acknowledgements\n",
        "\n",
        "This colab's structure is inspired by friends from [CS324](https://stanford-cs324.github.io/winter2023/assignment/)."
      ]
    },
    {
      "attachments": {},
      "cell_type": "markdown",
      "metadata": {
        "id": "jlTPst1R93E7"
      },
      "source": [
        "## LLMs for Classification\n",
        "\n",
        "Here, we will try to prompt languages models to classify instances of student reasoning as we did in HW2."
      ]
    },
    {
      "cell_type": "code",
      "execution_count": null,
      "metadata": {
        "colab": {
          "base_uri": "https://localhost:8080/"
        },
        "id": "1wG4ptm493E8",
        "outputId": "be5449d7-992d-4fb9-e242-518ef52545ba"
      },
      "outputs": [],
      "source": [
        "!pip install transformers torch datasets  accelerate bitsandbytes\n",
        "\n",
        "# `pip install accelerate` and the latest version of bitsandbytes `pip install -i https://test.pypi.org/simple/ bitsandbytes` or pip install bitsandbytes`"
      ]
    },
    {
      "cell_type": "code",
      "execution_count": null,
      "metadata": {
        "id": "R9V7vw8Z-L7F"
      },
      "outputs": [],
      "source": [
        "import transformers\n",
        "import torch\n",
        "from datasets import load_dataset\n",
        "from transformers import pipeline\n",
        "import os\n",
        "import pandas as pd\n"
      ]
    },
    {
      "cell_type": "code",
      "execution_count": null,
      "metadata": {
        "colab": {
          "base_uri": "https://localhost:8080/"
        },
        "id": "DwjGuxRD-f3Q",
        "outputId": "e146816b-3e4d-44a4-ce74-b1680b8a9de7"
      },
      "outputs": [],
      "source": [
        "from google.colab import drive\n",
        "drive.mount('/content/drive')\n",
        "\n",
        "DIR_PATH = \"<Your Directory Path>\""
      ]
    },
    {
      "cell_type": "code",
      "execution_count": null,
      "metadata": {
        "id": "J4g4-0_b-L_Q"
      },
      "outputs": [],
      "source": [
        "# Let's load the reasoning dataset.\n",
        "df = pd.read_csv(os.path.join(DIR_PATH, \"data/student_reasoning.csv\"))"
      ]
    },
    {
      "attachments": {},
      "cell_type": "markdown",
      "metadata": {
        "id": "BHJbQ7aM_Kaa"
      },
      "source": [
        "## Prompt Development\n",
        "\n",
        "Now, you will develop effective prompts for the language model. A prompt is a short sentence or phrase that serves as the starting point for the model's text generation (e.g., Is this sentence related to math? <sentence written here>”).\n",
        "\n",
        "You will try to come up with a prompting \"template\" that allows a foundation model to correctly solve a task for 5 samples of your selected dataset.\n",
        "\n",
        "For example, for classification of math content, we could specify a template as follows:\n",
        "\n"
      ]
    },
    {
      "cell_type": "code",
      "execution_count": null,
      "metadata": {
        "id": "0RL-Yfct-MCu"
      },
      "outputs": [],
      "source": [
        "def template(sample_sentence):\n",
        "    prompt = f\"\"\"\n",
        "    Is this sentence related to math?\n",
        "    \"I had a great weekend!\"\n",
        "    Label:\n",
        "    false\n",
        "    ###\n",
        "    Is this sentence related to math?\n",
        "    \"I'm stuck on this addition problem...\"\n",
        "    Label:\n",
        "    true\n",
        "    ###\n",
        "    {sample_sentence}\n",
        "    Label:\n",
        "    \"\"\"\n",
        "    return prompt"
      ]
    },
    {
      "attachments": {},
      "cell_type": "markdown",
      "metadata": {
        "id": "RZg5J7UwAWA7"
      },
      "source": [
        "We can then apply the `template` function to 5 samples of our dataset, and feed the resulting prompt to a large language model. The hope is that the LLM processes the prompt as input, and outputs the desired `true` or `false` classification as natural text, via standard autoregressive language modeling.  \n",
        "\n",
        "**To begin**, first select 5 samples from the dataset.\n",
        "\n",
        "In this section we will develop prompts for HuggingFace Bloom's 1.7B parameter model (a large language model with... 1.7 billion parameters).\n",
        "\n",
        "We'll first walk through some initial setup and two prompting strategies, before you come up with your own templates."
      ]
    },
    {
      "attachments": {},
      "cell_type": "markdown",
      "metadata": {
        "id": "dtorJKE_Ahrq"
      },
      "source": [
        "### Load the model"
      ]
    },
    {
      "cell_type": "code",
      "execution_count": null,
      "metadata": {
        "colab": {
          "base_uri": "https://localhost:8080/",
          "height": 177,
          "referenced_widgets": [
            "2adfc5abab544f2283b3e6b05e024fb4",
            "f398468fba754117a8eac52c5e79810b",
            "6be19759c2d7400592ad57d439efc4a8",
            "c09f44b653114ecf8dd415881ab6b93d",
            "4dc425fd7cbf4e2e9f5ae05f3f0bbfaf",
            "a1a2ca3caf184848896fe6d502b6bd7b",
            "56ca55641e514211b55cfd7c4155627d",
            "2dc66e4b9f314e17a45e5044c0bf717c",
            "c73312303cc64ae2aa30604a74d9a4e8",
            "92d4659bdb9a45efa94066cfd35f75a4",
            "664a62dd25b94031b28104c78ca1da15",
            "bc755b5c960549eca2bc9c478a2335d5",
            "29744ba833c34dc79d3b7f00e02a9a27",
            "19b56485b0eb47788c48cae59a7d2bfa",
            "4fd4db4f6a21410987c74f47b1321a26",
            "5ae2be87a5f24799bc43f7f92ae7a237",
            "044bbc51dc6e405daea723764a409b11",
            "c740a5b637264f3db85c66aa3b866c4f",
            "3f36917f1c8b4a3bb5d08de53a89258e",
            "dde14aff11ad4c7382e72b2cb7f9103c",
            "1e9cf4ada59b4e7d9ee04ecdb818133f",
            "7b2c0dbdc36f4a1fa45f0535e8f84fd7",
            "b6bb01e97e644eb495612dd4d6c800f7",
            "c5b0303aa7ff424caf161355956088b0",
            "21c6b0045171415893a85a04d325e48c",
            "7b7a3f1506a54a168431697243543d86",
            "7af9d2fe54494043a81016c88688ff7d",
            "787738b421dd4313b06ce6ee5866ebe0",
            "a299463bd25f4c1daebc2478e07f138d",
            "6792e3410a4d46f2be08619aaaa29f29",
            "5ee14d0cf85f4f23a62500e35c5f65bb",
            "397d5bc115af47c0b40d22ba59636ae2",
            "1310027a48e646e2b38af2f8aece7ea7",
            "b3c957b4f8294b909bdb700872da246c",
            "ebcabce463ab410fbf9d1d7dd59c01b3",
            "7adb8f1187ec407e83efad1b5f208039",
            "2b1edbd085e34432b947d8951f0f095b",
            "5769035516ac4227b306b8909a5dd79b",
            "071d4a7fb2d04e7fab4c33378ebf5cae",
            "a3e6ea2d12d34bbab16da6486e5fa3a7",
            "3495af29ab404bd983dd4736022ed8d3",
            "38e8e692f3204347842121374223ef7e",
            "624155adae7e4024a3acfb42e60a2f3c",
            "bc47f01a6acb49ed8d0e0a95b7e48eaa",
            "2c32bfde719d43909efaf72da6cb1dbd",
            "2570f2e039174ba39db9061bfe134bf1",
            "7717c892c2f149af9bf1efbfd1a9f105",
            "a6e2ae757a0b4f819ff6596df2bcda04",
            "20814a2b4b7b4f91b15c180598d870c1",
            "83041a7bc0284e7dbde57a7706c034fc",
            "6ae619accffc4317a46ecf1fab80f33f",
            "d6d2473663374301be31553033e9640f",
            "c2fb6c69f44342ffa6a29e2748821eb8",
            "e17f98fc9b4942fe889cc5d47584c7e9",
            "9ec988a0b95840f19eb280ea3c99e0ab"
          ]
        },
        "id": "Fj67Hn4G-MFK",
        "outputId": "4260e48c-71cc-43c9-df4e-aba4eb98ef4b"
      },
      "outputs": [],
      "source": [
        "from transformers import AutoTokenizer, AutoModelForCausalLM\n",
        "\n",
        "device = \"cuda:0\" if torch.cuda.is_available() else \"cpu\"\n",
        "\n",
        "model_name = \"bigscience/bloom-1b7\"\n",
        "model = AutoModelForCausalLM.from_pretrained(model_name, device_map=\"auto\", load_in_8bit=True)\n",
        "\n",
        "tokenizer = AutoTokenizer.from_pretrained(model_name)"
      ]
    },
    {
      "attachments": {},
      "cell_type": "markdown",
      "metadata": {
        "id": "5Uw5XcWXBz6p"
      },
      "source": [
        "#### Configure a HuggingFace pipeline to generate text\n",
        "Here, we will use the HuggingFace pipeline library to generate text using the model we have loaded"
      ]
    },
    {
      "cell_type": "code",
      "execution_count": null,
      "metadata": {
        "id": "uYaKJW7o-MGZ"
      },
      "outputs": [],
      "source": [
        "generator = pipeline(task=\"text-generation\", model=model, tokenizer=tokenizer)"
      ]
    },
    {
      "attachments": {},
      "cell_type": "markdown",
      "metadata": {
        "id": "1TVb4ZpqB3wP"
      },
      "source": [
        "#### Generate text\n",
        "\n",
        "Now we will now begin prompting the model. We will begin by walking you through a few examples of different prompt formats."
      ]
    },
    {
      "cell_type": "code",
      "execution_count": null,
      "metadata": {
        "colab": {
          "base_uri": "https://localhost:8080/"
        },
        "id": "o-3hA4JGB3AT",
        "outputId": "ac22cef1-265e-4e28-d1f2-db3a97155496"
      },
      "outputs": [],
      "source": [
        "# sample five entries from the sample dataset\n",
        "samples = df.sample(n=5)\n",
        "sample_sentence = samples.iloc[0].text\n",
        "print(sample_sentence)"
      ]
    },
    {
      "attachments": {},
      "cell_type": "markdown",
      "metadata": {
        "id": "sX9K6VFUBzbb"
      },
      "source": [
        "#### Prompt Technique: Zero-Shot Prompting\n",
        "\n",
        "In this technique, an instruction for the task is usually specified in natural language. The model is expected to following the specification and output a correct response, **without any examples** (hence \"zero shots\")."
      ]
    },
    {
      "cell_type": "code",
      "execution_count": null,
      "metadata": {
        "colab": {
          "base_uri": "https://localhost:8080/"
        },
        "id": "g_AqOBxO-MI3",
        "outputId": "9feb1a37-3bf0-4c9d-d789-859a184aa2d3"
      },
      "outputs": [],
      "source": [
        "# Write a zero-shot prompt\n",
        "prompt = f\"\"\"Classify whether the following sentence contains math with label true or false.\n",
        "\n",
        "Sentence: {sample_sentence}\n",
        "Label:\"\"\"\n",
        "\n",
        "print(prompt)"
      ]
    },
    {
      "cell_type": "code",
      "execution_count": null,
      "metadata": {
        "colab": {
          "base_uri": "https://localhost:8080/"
        },
        "id": "kbG0xaUL-MK_",
        "outputId": "3f1d6ff2-0ac8-427d-9985-3af382a5c913"
      },
      "outputs": [],
      "source": [
        "# Feed prompt to model to generate an output\n",
        "output = generator(prompt, max_new_tokens=20)\n",
        "print(output[0]['generated_text'])"
      ]
    },
    {
      "attachments": {},
      "cell_type": "markdown",
      "metadata": {
        "id": "5qSMidOGCoRE"
      },
      "source": [
        "#### Prompt Technique: Few-shot prompting\n",
        "In this technique, we provide a few examples in the prompt, optionally including task instructions as well (all as natural language). Even without said instructions, our hope is that the LLM can use the examples to autoregressively complete what comes next to solve the desired task."
      ]
    },
    {
      "cell_type": "code",
      "execution_count": null,
      "metadata": {
        "colab": {
          "base_uri": "https://localhost:8080/"
        },
        "id": "AyoL9Vu6-MM5",
        "outputId": "39d5d7f6-999b-4a20-adbd-0ce3b4a47e8e"
      },
      "outputs": [],
      "source": [
        "\"\"\"\n",
        "Write a few-shot prompt. Here we include a few in-context examples to the model\n",
        "demonstrating how to complete the tasks\n",
        "\"\"\"\n",
        "\n",
        "prompt = f\"\"\"Classify whether the following sentence contains math with label true or false.\n",
        "\n",
        "Sentence: I had a good weekend!\n",
        "Label: false\n",
        "\n",
        "Sentence: I'm stuck on this addition problem...\n",
        "Label: true\n",
        "\n",
        "Sentence: {sample_sentence}\n",
        "Label:\"\"\"\n",
        "\n",
        "print(prompt)"
      ]
    },
    {
      "cell_type": "code",
      "execution_count": null,
      "metadata": {
        "colab": {
          "base_uri": "https://localhost:8080/"
        },
        "id": "nIgEn8suDJ0z",
        "outputId": "f1cbd25f-fe96-4c2f-c450-0154f0eb195b"
      },
      "outputs": [],
      "source": [
        "# Feed prompt to model to generate an output\n",
        "output = generator(prompt, max_new_tokens=1)\n",
        "print(output[0]['generated_text'])"
      ]
    },
    {
      "attachments": {},
      "cell_type": "markdown",
      "metadata": {
        "id": "9pXtE6P7DPsi"
      },
      "source": [
        "#### Now it's your turn!\n",
        "\n",
        "Create and evaluate 3 different prompting templates for your task and the 5 previously selected samples.\n",
        "\n",
        "For each sample, your code should print out the LLM's output in response to the sample's corresponding prompt.\n",
        "\n",
        "You should also write a function to automatically determine if the output correctly solved the task for each sample, and report the overall evaluation metric for all five samples. Note that you'll need to write code to load in the student reasoning dataset and extract the correct label for each sample.\n",
        "\n",
        "Don't worry about creating templates that solve the task for all samples (e.g., 100% accuracy for classification). But your templates should be reasonable to some extent, i.e., developed with the aim to solve the task for at least 3 or 4 examples."
      ]
    },
    {
      "cell_type": "code",
      "execution_count": null,
      "metadata": {
        "id": "F7IO1lsLDJ4O"
      },
      "outputs": [],
      "source": [
        "\"\"\"\n",
        "Instructions: Randomly subselect 5 examples from your dataset\n",
        "\n",
        "Enter your code below:\n",
        "\"\"\""
      ]
    },
    {
      "cell_type": "code",
      "execution_count": null,
      "metadata": {
        "id": "RePhSc0mDJ6h"
      },
      "outputs": [],
      "source": [
        "\"\"\"\n",
        "Prompt #1: Enter your code below\n",
        "\n",
        "** Hint: For ease of use, wrap your prompts in functions (see sample code below) ***\n",
        "\n",
        "----- SAMPLE CODE ------\n",
        "\n",
        "def prompt_1(sample_sentence):\n",
        "  prompt = f'''Classify whether the following sentence contains math with label true or false.\n",
        "\n",
        "Sentence: I had a good weekend!\n",
        "Label: false\n",
        "\n",
        "Sentence: I'm stuck on this addition problem...\n",
        "Label: true\n",
        "\n",
        "Sentence: {sample_sentence}\n",
        "Label:'''\n",
        "  return prompt\n",
        "\n",
        "for i, row in samples.iterrows():\n",
        "  print(f\"Sample {i}:\")\n",
        "  print(generator(prompt_1(row['text']), max_new_tokens=1)[0]['generated_text'])\n",
        "\n",
        "-------------------------\n",
        "\n",
        "\"\"\""
      ]
    },
    {
      "attachments": {},
      "cell_type": "markdown",
      "metadata": {
        "id": "Sm7EaHPMDjv9"
      },
      "source": [
        "Performance of Prompt #1: **REPLACE ME!**"
      ]
    },
    {
      "cell_type": "code",
      "execution_count": null,
      "metadata": {
        "id": "MuP-xMwEDjRf"
      },
      "outputs": [],
      "source": [
        "\"\"\"\n",
        "Prompt #2: Enter your code below\n",
        "\"\"\""
      ]
    },
    {
      "attachments": {},
      "cell_type": "markdown",
      "metadata": {
        "id": "DTAwAgUwDymq"
      },
      "source": [
        "Performance of Prompt #2: **REPLACE ME!**"
      ]
    },
    {
      "cell_type": "code",
      "execution_count": null,
      "metadata": {
        "id": "Pqvzw_0fDJ8l"
      },
      "outputs": [],
      "source": [
        "\"\"\"\n",
        "Prompt #3: Enter your code below\n",
        "\"\"\""
      ]
    },
    {
      "attachments": {},
      "cell_type": "markdown",
      "metadata": {
        "id": "CNbaNOw5LM5t"
      },
      "source": [
        "**Performance of Prompt #3: REPLACE ME!**"
      ]
    },
    {
      "attachments": {},
      "cell_type": "markdown",
      "metadata": {
        "id": "ZA8fNZWCLQL_"
      },
      "source": [
        "### Model Comparisons\n",
        "\n",
        "In the final part of the assignment, pick one of the prompting templates you designed in Part 2, and randomly select 20 samples from your dataset chosen in Part 1.\n",
        "\n",
        "Using this template and evaluation set, we will now compare the performance of different large language models.\n",
        "\n",
        "We will focus on two dimensions of comparisons:\n",
        "\n",
        "1. Model Size\n",
        "2. Model Training Objectives\n",
        "\n",
        "\n",
        "#### Model Size Comparisons\n",
        "Here we will compare the performance of our prior Bloom 1.7b model (bloom-1b7), and a larger LLM, bloom-3B (bloom-3b) with... you guessed it, 3 billion parameters."
      ]
    },
    {
      "cell_type": "code",
      "execution_count": null,
      "metadata": {
        "id": "Ph8hI8xdLMV7"
      },
      "outputs": [],
      "source": [
        "\"\"\"\n",
        "Instructions: Randomly subselect 20 examples from your dataset\n",
        "\n",
        "Enter your code below:\n",
        "\"\"\""
      ]
    },
    {
      "cell_type": "code",
      "execution_count": null,
      "metadata": {
        "id": "qPOJuNXI-LW6"
      },
      "outputs": [],
      "source": [
        "\"\"\"\n",
        "Instructions:\n",
        "1. Using the bigscience/bloom-1b7 model we loaded before, generate task outputs for each of the 20 examples in the dataset\n",
        "2. Save all the outputs and ground-truth labels to a dataframe\n",
        "3. Compute the task performance, using the the provided ground-truth labels in the dataset.\n",
        "\n",
        "Enter your code below:\n",
        "\"\"\""
      ]
    },
    {
      "cell_type": "code",
      "execution_count": null,
      "metadata": {
        "id": "J4tkLXU7-LZW"
      },
      "outputs": [],
      "source": [
        "\"\"\"\n",
        "Instructions:\n",
        "1. Load the bigscience/bloom-3b model and generate task outputs for each of the 20 examples in the dataset\n",
        "2. Save all the outputs and ground-truth labels to a dataframe\n",
        "3. Compute the task performance, using the the provided ground-truth labels in the dataset.\n",
        "\n",
        "Enter your code below:\n",
        "\"\"\""
      ]
    },
    {
      "attachments": {},
      "cell_type": "markdown",
      "metadata": {
        "id": "m7AVWX3YLrXG"
      },
      "source": [
        "Instructions:\n",
        "\n",
        "Compare the the quantitative performance of bloom-3B and bloom-1b7 parameter model.\n",
        "Using a few of the outputs generated by models, describe a 1-2 qualitiative differences in the outputs\n",
        "\n",
        "\n",
        "**Answer (Provide your answer here): REPLACE ME!**"
      ]
    },
    {
      "cell_type": "code",
      "execution_count": null,
      "metadata": {
        "id": "1KeVk3eVLwu1"
      },
      "outputs": [],
      "source": []
    },
    {
      "attachments": {},
      "cell_type": "markdown",
      "metadata": {
        "id": "D_suFwaPLwNe"
      },
      "source": [
        "#### Model Training Objectives\n",
        "Here we will compare the performance of bloom-3b and [bloomz-3b](https://huggingface.co/bigscience/bloomz-3b).\n",
        "\n",
        "Bloomz 3B is an *instruction-finetuned* model (a model explicitly trained to follow instructions), trained with a Bloom 3B backbone.\n",
        "\n",
        "* For more information on Bloom 3B , please see its [Model Card](https://huggingface.co/bigscience/bloomz-3b) (also linked above).\n",
        "\n",
        "* For more information on instruction fine-tuning, check out the corresponding [paper](https://arxiv.org/abs/2211.01786)."
      ]
    },
    {
      "cell_type": "code",
      "execution_count": null,
      "metadata": {
        "colab": {
          "base_uri": "https://localhost:8080/",
          "height": 53
        },
        "id": "APG2Zjdw-Lbn",
        "outputId": "64d1fc52-e2b3-4d69-b34b-f2545c1725c4"
      },
      "outputs": [],
      "source": [
        "\"\"\"\n",
        "Instructions:\n",
        "1. Load the bigsciece/bloomz-3b model and generate task outputs for each of the 20 examples in the dataset\n",
        "2. Save all the outputs and ground-truth labels to a dataframe\n",
        "3. Compute the task performance, using the the provided ground truth labels in the dataset.\n",
        "\n",
        "\n",
        "Enter your code below:\n",
        "\"\"\""
      ]
    },
    {
      "attachments": {},
      "cell_type": "markdown",
      "metadata": {
        "id": "cJSkzVbRL34T"
      },
      "source": [
        "Instructions:  \n",
        "1. Compare the the quantitative performance of bloom-3b and bloomz-3b.\n",
        "2. Using a few of the outputs generated by models, describe 1-2 qualitiative differences in the outputs\n",
        "\n",
        "**Answer (Provide your answer here):**"
      ]
    },
    {
      "cell_type": "code",
      "execution_count": null,
      "metadata": {
        "id": "jnkxmWxW-Ld7"
      },
      "outputs": [],
      "source": []
    },
    {
      "cell_type": "code",
      "execution_count": null,
      "metadata": {
        "id": "iL52y2bC-Lf0"
      },
      "outputs": [],
      "source": []
    },
    {
      "attachments": {},
      "cell_type": "markdown",
      "metadata": {
        "id": "OcAWknauL9JB"
      },
      "source": [
        "### Extra assignment\n",
        "\n",
        "\n",
        "#### Bonus for fun: ChatGPT\n",
        "\n",
        "As an additional comparison, try the above evaluation with [ChatGPT](https://openai.com/blog/chatgpt/), a *closed-source* model trained by OpenAI with instruction-finetuning.\n",
        "\n",
        "For now, ChatGPT provides a free way to interact with \"Open\"AI's closed models. You can access it at [https://chat.openai.com/](https://chat.openai.com/) (you may need to create an account first).\n",
        "\n",
        "How do the outputs of ChatGPT compare against the open-source BLOOM and BLOOMZ models?\n",
        "\n",
        "---\n",
        "#### Bonus for credit: ChatGPT does your homework\n",
        "As an additional bonus, can you think of a way to get ChatGPT to complete this assignment?\n",
        "\n",
        "In code or text blocks below, paste your input to ChatGPT, and the resulting output.\n",
        "\n",
        "Provide a short response describing your thoughts on using ChatGPT to complete this assignment, and any necessary changes to complete this assignment.\n",
        "\n",
        "Additional bonus for actually running ChatGPT-generated output and completing this assignment in the code blocks below.\n"
      ]
    },
    {
      "attachments": {},
      "cell_type": "markdown",
      "metadata": {
        "id": "Q8an-lx793E-"
      },
      "source": []
    },
    {
      "cell_type": "code",
      "execution_count": null,
      "metadata": {
        "id": "ohHDFJ9rME1q"
      },
      "outputs": [],
      "source": [
        "### Enter your input prompts for ChatGPT:"
      ]
    },
    {
      "cell_type": "code",
      "execution_count": null,
      "metadata": {
        "id": "D6S8TTa_MFXk"
      },
      "outputs": [],
      "source": [
        "### Copy and paste the resulting ChatGPT output:\n"
      ]
    },
    {
      "cell_type": "code",
      "execution_count": null,
      "metadata": {
        "id": "gG1nU_3bMFgm"
      },
      "outputs": [],
      "source": [
        "### Describe your experience with ChatGPT, and any changes you'd make\n",
        "### to successfully complete this assignment with ChatGPT's outputs,\n",
        "### in the text box below:"
      ]
    },
    {
      "attachments": {},
      "cell_type": "markdown",
      "metadata": {
        "id": "GjM0tlsZMJnm"
      },
      "source": [
        "**WRITE YOUR REPSONSE HERE!**"
      ]
    },
    {
      "cell_type": "code",
      "execution_count": null,
      "metadata": {
        "id": "LibGRlr2MMLI"
      },
      "outputs": [],
      "source": [
        "### Make any necessary changes to the output to successfully\n",
        "### run the code and complete this assignment in the code blocks below\n",
        "\n",
        "\n"
      ]
    }
  ],
  "metadata": {
    "accelerator": "GPU",
    "colab": {
      "gpuType": "T4",
      "provenance": []
    },
    "kernelspec": {
      "display_name": "Python 3",
      "name": "python3"
    },
    "language_info": {
      "codemirror_mode": {
        "name": "ipython",
        "version": 3
      },
      "file_extension": ".py",
      "mimetype": "text/x-python",
      "name": "python",
      "nbconvert_exporter": "python",
      "pygments_lexer": "ipython3",
      "version": "3.11.4"
    },
    "orig_nbformat": 4,
    "widgets": {
      "application/vnd.jupyter.widget-state+json": {
        "044bbc51dc6e405daea723764a409b11": {
          "model_module": "@jupyter-widgets/base",
          "model_module_version": "1.2.0",
          "model_name": "LayoutModel",
          "state": {
            "_model_module": "@jupyter-widgets/base",
            "_model_module_version": "1.2.0",
            "_model_name": "LayoutModel",
            "_view_count": null,
            "_view_module": "@jupyter-widgets/base",
            "_view_module_version": "1.2.0",
            "_view_name": "LayoutView",
            "align_content": null,
            "align_items": null,
            "align_self": null,
            "border": null,
            "bottom": null,
            "display": null,
            "flex": null,
            "flex_flow": null,
            "grid_area": null,
            "grid_auto_columns": null,
            "grid_auto_flow": null,
            "grid_auto_rows": null,
            "grid_column": null,
            "grid_gap": null,
            "grid_row": null,
            "grid_template_areas": null,
            "grid_template_columns": null,
            "grid_template_rows": null,
            "height": null,
            "justify_content": null,
            "justify_items": null,
            "left": null,
            "margin": null,
            "max_height": null,
            "max_width": null,
            "min_height": null,
            "min_width": null,
            "object_fit": null,
            "object_position": null,
            "order": null,
            "overflow": null,
            "overflow_x": null,
            "overflow_y": null,
            "padding": null,
            "right": null,
            "top": null,
            "visibility": null,
            "width": null
          }
        },
        "071d4a7fb2d04e7fab4c33378ebf5cae": {
          "model_module": "@jupyter-widgets/base",
          "model_module_version": "1.2.0",
          "model_name": "LayoutModel",
          "state": {
            "_model_module": "@jupyter-widgets/base",
            "_model_module_version": "1.2.0",
            "_model_name": "LayoutModel",
            "_view_count": null,
            "_view_module": "@jupyter-widgets/base",
            "_view_module_version": "1.2.0",
            "_view_name": "LayoutView",
            "align_content": null,
            "align_items": null,
            "align_self": null,
            "border": null,
            "bottom": null,
            "display": null,
            "flex": null,
            "flex_flow": null,
            "grid_area": null,
            "grid_auto_columns": null,
            "grid_auto_flow": null,
            "grid_auto_rows": null,
            "grid_column": null,
            "grid_gap": null,
            "grid_row": null,
            "grid_template_areas": null,
            "grid_template_columns": null,
            "grid_template_rows": null,
            "height": null,
            "justify_content": null,
            "justify_items": null,
            "left": null,
            "margin": null,
            "max_height": null,
            "max_width": null,
            "min_height": null,
            "min_width": null,
            "object_fit": null,
            "object_position": null,
            "order": null,
            "overflow": null,
            "overflow_x": null,
            "overflow_y": null,
            "padding": null,
            "right": null,
            "top": null,
            "visibility": null,
            "width": null
          }
        },
        "1310027a48e646e2b38af2f8aece7ea7": {
          "model_module": "@jupyter-widgets/controls",
          "model_module_version": "1.5.0",
          "model_name": "DescriptionStyleModel",
          "state": {
            "_model_module": "@jupyter-widgets/controls",
            "_model_module_version": "1.5.0",
            "_model_name": "DescriptionStyleModel",
            "_view_count": null,
            "_view_module": "@jupyter-widgets/base",
            "_view_module_version": "1.2.0",
            "_view_name": "StyleView",
            "description_width": ""
          }
        },
        "19b56485b0eb47788c48cae59a7d2bfa": {
          "model_module": "@jupyter-widgets/controls",
          "model_module_version": "1.5.0",
          "model_name": "FloatProgressModel",
          "state": {
            "_dom_classes": [],
            "_model_module": "@jupyter-widgets/controls",
            "_model_module_version": "1.5.0",
            "_model_name": "FloatProgressModel",
            "_view_count": null,
            "_view_module": "@jupyter-widgets/controls",
            "_view_module_version": "1.5.0",
            "_view_name": "ProgressView",
            "bar_style": "success",
            "description": "",
            "description_tooltip": null,
            "layout": "IPY_MODEL_3f36917f1c8b4a3bb5d08de53a89258e",
            "max": 3444848602,
            "min": 0,
            "orientation": "horizontal",
            "style": "IPY_MODEL_dde14aff11ad4c7382e72b2cb7f9103c",
            "value": 3444848602
          }
        },
        "1e9cf4ada59b4e7d9ee04ecdb818133f": {
          "model_module": "@jupyter-widgets/base",
          "model_module_version": "1.2.0",
          "model_name": "LayoutModel",
          "state": {
            "_model_module": "@jupyter-widgets/base",
            "_model_module_version": "1.2.0",
            "_model_name": "LayoutModel",
            "_view_count": null,
            "_view_module": "@jupyter-widgets/base",
            "_view_module_version": "1.2.0",
            "_view_name": "LayoutView",
            "align_content": null,
            "align_items": null,
            "align_self": null,
            "border": null,
            "bottom": null,
            "display": null,
            "flex": null,
            "flex_flow": null,
            "grid_area": null,
            "grid_auto_columns": null,
            "grid_auto_flow": null,
            "grid_auto_rows": null,
            "grid_column": null,
            "grid_gap": null,
            "grid_row": null,
            "grid_template_areas": null,
            "grid_template_columns": null,
            "grid_template_rows": null,
            "height": null,
            "justify_content": null,
            "justify_items": null,
            "left": null,
            "margin": null,
            "max_height": null,
            "max_width": null,
            "min_height": null,
            "min_width": null,
            "object_fit": null,
            "object_position": null,
            "order": null,
            "overflow": null,
            "overflow_x": null,
            "overflow_y": null,
            "padding": null,
            "right": null,
            "top": null,
            "visibility": null,
            "width": null
          }
        },
        "20814a2b4b7b4f91b15c180598d870c1": {
          "model_module": "@jupyter-widgets/base",
          "model_module_version": "1.2.0",
          "model_name": "LayoutModel",
          "state": {
            "_model_module": "@jupyter-widgets/base",
            "_model_module_version": "1.2.0",
            "_model_name": "LayoutModel",
            "_view_count": null,
            "_view_module": "@jupyter-widgets/base",
            "_view_module_version": "1.2.0",
            "_view_name": "LayoutView",
            "align_content": null,
            "align_items": null,
            "align_self": null,
            "border": null,
            "bottom": null,
            "display": null,
            "flex": null,
            "flex_flow": null,
            "grid_area": null,
            "grid_auto_columns": null,
            "grid_auto_flow": null,
            "grid_auto_rows": null,
            "grid_column": null,
            "grid_gap": null,
            "grid_row": null,
            "grid_template_areas": null,
            "grid_template_columns": null,
            "grid_template_rows": null,
            "height": null,
            "justify_content": null,
            "justify_items": null,
            "left": null,
            "margin": null,
            "max_height": null,
            "max_width": null,
            "min_height": null,
            "min_width": null,
            "object_fit": null,
            "object_position": null,
            "order": null,
            "overflow": null,
            "overflow_x": null,
            "overflow_y": null,
            "padding": null,
            "right": null,
            "top": null,
            "visibility": null,
            "width": null
          }
        },
        "21c6b0045171415893a85a04d325e48c": {
          "model_module": "@jupyter-widgets/controls",
          "model_module_version": "1.5.0",
          "model_name": "FloatProgressModel",
          "state": {
            "_dom_classes": [],
            "_model_module": "@jupyter-widgets/controls",
            "_model_module_version": "1.5.0",
            "_model_name": "FloatProgressModel",
            "_view_count": null,
            "_view_module": "@jupyter-widgets/controls",
            "_view_module_version": "1.5.0",
            "_view_name": "ProgressView",
            "bar_style": "success",
            "description": "",
            "description_tooltip": null,
            "layout": "IPY_MODEL_6792e3410a4d46f2be08619aaaa29f29",
            "max": 222,
            "min": 0,
            "orientation": "horizontal",
            "style": "IPY_MODEL_5ee14d0cf85f4f23a62500e35c5f65bb",
            "value": 222
          }
        },
        "2570f2e039174ba39db9061bfe134bf1": {
          "model_module": "@jupyter-widgets/controls",
          "model_module_version": "1.5.0",
          "model_name": "HTMLModel",
          "state": {
            "_dom_classes": [],
            "_model_module": "@jupyter-widgets/controls",
            "_model_module_version": "1.5.0",
            "_model_name": "HTMLModel",
            "_view_count": null,
            "_view_module": "@jupyter-widgets/controls",
            "_view_module_version": "1.5.0",
            "_view_name": "HTMLView",
            "description": "",
            "description_tooltip": null,
            "layout": "IPY_MODEL_83041a7bc0284e7dbde57a7706c034fc",
            "placeholder": "​",
            "style": "IPY_MODEL_6ae619accffc4317a46ecf1fab80f33f",
            "value": "Downloading (…)cial_tokens_map.json: 100%"
          }
        },
        "29744ba833c34dc79d3b7f00e02a9a27": {
          "model_module": "@jupyter-widgets/controls",
          "model_module_version": "1.5.0",
          "model_name": "HTMLModel",
          "state": {
            "_dom_classes": [],
            "_model_module": "@jupyter-widgets/controls",
            "_model_module_version": "1.5.0",
            "_model_name": "HTMLModel",
            "_view_count": null,
            "_view_module": "@jupyter-widgets/controls",
            "_view_module_version": "1.5.0",
            "_view_name": "HTMLView",
            "description": "",
            "description_tooltip": null,
            "layout": "IPY_MODEL_044bbc51dc6e405daea723764a409b11",
            "placeholder": "​",
            "style": "IPY_MODEL_c740a5b637264f3db85c66aa3b866c4f",
            "value": "Downloading model.safetensors: 100%"
          }
        },
        "2adfc5abab544f2283b3e6b05e024fb4": {
          "model_module": "@jupyter-widgets/controls",
          "model_module_version": "1.5.0",
          "model_name": "HBoxModel",
          "state": {
            "_dom_classes": [],
            "_model_module": "@jupyter-widgets/controls",
            "_model_module_version": "1.5.0",
            "_model_name": "HBoxModel",
            "_view_count": null,
            "_view_module": "@jupyter-widgets/controls",
            "_view_module_version": "1.5.0",
            "_view_name": "HBoxView",
            "box_style": "",
            "children": [
              "IPY_MODEL_f398468fba754117a8eac52c5e79810b",
              "IPY_MODEL_6be19759c2d7400592ad57d439efc4a8",
              "IPY_MODEL_c09f44b653114ecf8dd415881ab6b93d"
            ],
            "layout": "IPY_MODEL_4dc425fd7cbf4e2e9f5ae05f3f0bbfaf"
          }
        },
        "2b1edbd085e34432b947d8951f0f095b": {
          "model_module": "@jupyter-widgets/controls",
          "model_module_version": "1.5.0",
          "model_name": "HTMLModel",
          "state": {
            "_dom_classes": [],
            "_model_module": "@jupyter-widgets/controls",
            "_model_module_version": "1.5.0",
            "_model_name": "HTMLModel",
            "_view_count": null,
            "_view_module": "@jupyter-widgets/controls",
            "_view_module_version": "1.5.0",
            "_view_name": "HTMLView",
            "description": "",
            "description_tooltip": null,
            "layout": "IPY_MODEL_624155adae7e4024a3acfb42e60a2f3c",
            "placeholder": "​",
            "style": "IPY_MODEL_bc47f01a6acb49ed8d0e0a95b7e48eaa",
            "value": " 14.5M/14.5M [00:00&lt;00:00, 39.9MB/s]"
          }
        },
        "2c32bfde719d43909efaf72da6cb1dbd": {
          "model_module": "@jupyter-widgets/controls",
          "model_module_version": "1.5.0",
          "model_name": "HBoxModel",
          "state": {
            "_dom_classes": [],
            "_model_module": "@jupyter-widgets/controls",
            "_model_module_version": "1.5.0",
            "_model_name": "HBoxModel",
            "_view_count": null,
            "_view_module": "@jupyter-widgets/controls",
            "_view_module_version": "1.5.0",
            "_view_name": "HBoxView",
            "box_style": "",
            "children": [
              "IPY_MODEL_2570f2e039174ba39db9061bfe134bf1",
              "IPY_MODEL_7717c892c2f149af9bf1efbfd1a9f105",
              "IPY_MODEL_a6e2ae757a0b4f819ff6596df2bcda04"
            ],
            "layout": "IPY_MODEL_20814a2b4b7b4f91b15c180598d870c1"
          }
        },
        "2dc66e4b9f314e17a45e5044c0bf717c": {
          "model_module": "@jupyter-widgets/base",
          "model_module_version": "1.2.0",
          "model_name": "LayoutModel",
          "state": {
            "_model_module": "@jupyter-widgets/base",
            "_model_module_version": "1.2.0",
            "_model_name": "LayoutModel",
            "_view_count": null,
            "_view_module": "@jupyter-widgets/base",
            "_view_module_version": "1.2.0",
            "_view_name": "LayoutView",
            "align_content": null,
            "align_items": null,
            "align_self": null,
            "border": null,
            "bottom": null,
            "display": null,
            "flex": null,
            "flex_flow": null,
            "grid_area": null,
            "grid_auto_columns": null,
            "grid_auto_flow": null,
            "grid_auto_rows": null,
            "grid_column": null,
            "grid_gap": null,
            "grid_row": null,
            "grid_template_areas": null,
            "grid_template_columns": null,
            "grid_template_rows": null,
            "height": null,
            "justify_content": null,
            "justify_items": null,
            "left": null,
            "margin": null,
            "max_height": null,
            "max_width": null,
            "min_height": null,
            "min_width": null,
            "object_fit": null,
            "object_position": null,
            "order": null,
            "overflow": null,
            "overflow_x": null,
            "overflow_y": null,
            "padding": null,
            "right": null,
            "top": null,
            "visibility": null,
            "width": null
          }
        },
        "3495af29ab404bd983dd4736022ed8d3": {
          "model_module": "@jupyter-widgets/base",
          "model_module_version": "1.2.0",
          "model_name": "LayoutModel",
          "state": {
            "_model_module": "@jupyter-widgets/base",
            "_model_module_version": "1.2.0",
            "_model_name": "LayoutModel",
            "_view_count": null,
            "_view_module": "@jupyter-widgets/base",
            "_view_module_version": "1.2.0",
            "_view_name": "LayoutView",
            "align_content": null,
            "align_items": null,
            "align_self": null,
            "border": null,
            "bottom": null,
            "display": null,
            "flex": null,
            "flex_flow": null,
            "grid_area": null,
            "grid_auto_columns": null,
            "grid_auto_flow": null,
            "grid_auto_rows": null,
            "grid_column": null,
            "grid_gap": null,
            "grid_row": null,
            "grid_template_areas": null,
            "grid_template_columns": null,
            "grid_template_rows": null,
            "height": null,
            "justify_content": null,
            "justify_items": null,
            "left": null,
            "margin": null,
            "max_height": null,
            "max_width": null,
            "min_height": null,
            "min_width": null,
            "object_fit": null,
            "object_position": null,
            "order": null,
            "overflow": null,
            "overflow_x": null,
            "overflow_y": null,
            "padding": null,
            "right": null,
            "top": null,
            "visibility": null,
            "width": null
          }
        },
        "38e8e692f3204347842121374223ef7e": {
          "model_module": "@jupyter-widgets/controls",
          "model_module_version": "1.5.0",
          "model_name": "ProgressStyleModel",
          "state": {
            "_model_module": "@jupyter-widgets/controls",
            "_model_module_version": "1.5.0",
            "_model_name": "ProgressStyleModel",
            "_view_count": null,
            "_view_module": "@jupyter-widgets/base",
            "_view_module_version": "1.2.0",
            "_view_name": "StyleView",
            "bar_color": null,
            "description_width": ""
          }
        },
        "397d5bc115af47c0b40d22ba59636ae2": {
          "model_module": "@jupyter-widgets/base",
          "model_module_version": "1.2.0",
          "model_name": "LayoutModel",
          "state": {
            "_model_module": "@jupyter-widgets/base",
            "_model_module_version": "1.2.0",
            "_model_name": "LayoutModel",
            "_view_count": null,
            "_view_module": "@jupyter-widgets/base",
            "_view_module_version": "1.2.0",
            "_view_name": "LayoutView",
            "align_content": null,
            "align_items": null,
            "align_self": null,
            "border": null,
            "bottom": null,
            "display": null,
            "flex": null,
            "flex_flow": null,
            "grid_area": null,
            "grid_auto_columns": null,
            "grid_auto_flow": null,
            "grid_auto_rows": null,
            "grid_column": null,
            "grid_gap": null,
            "grid_row": null,
            "grid_template_areas": null,
            "grid_template_columns": null,
            "grid_template_rows": null,
            "height": null,
            "justify_content": null,
            "justify_items": null,
            "left": null,
            "margin": null,
            "max_height": null,
            "max_width": null,
            "min_height": null,
            "min_width": null,
            "object_fit": null,
            "object_position": null,
            "order": null,
            "overflow": null,
            "overflow_x": null,
            "overflow_y": null,
            "padding": null,
            "right": null,
            "top": null,
            "visibility": null,
            "width": null
          }
        },
        "3f36917f1c8b4a3bb5d08de53a89258e": {
          "model_module": "@jupyter-widgets/base",
          "model_module_version": "1.2.0",
          "model_name": "LayoutModel",
          "state": {
            "_model_module": "@jupyter-widgets/base",
            "_model_module_version": "1.2.0",
            "_model_name": "LayoutModel",
            "_view_count": null,
            "_view_module": "@jupyter-widgets/base",
            "_view_module_version": "1.2.0",
            "_view_name": "LayoutView",
            "align_content": null,
            "align_items": null,
            "align_self": null,
            "border": null,
            "bottom": null,
            "display": null,
            "flex": null,
            "flex_flow": null,
            "grid_area": null,
            "grid_auto_columns": null,
            "grid_auto_flow": null,
            "grid_auto_rows": null,
            "grid_column": null,
            "grid_gap": null,
            "grid_row": null,
            "grid_template_areas": null,
            "grid_template_columns": null,
            "grid_template_rows": null,
            "height": null,
            "justify_content": null,
            "justify_items": null,
            "left": null,
            "margin": null,
            "max_height": null,
            "max_width": null,
            "min_height": null,
            "min_width": null,
            "object_fit": null,
            "object_position": null,
            "order": null,
            "overflow": null,
            "overflow_x": null,
            "overflow_y": null,
            "padding": null,
            "right": null,
            "top": null,
            "visibility": null,
            "width": null
          }
        },
        "4dc425fd7cbf4e2e9f5ae05f3f0bbfaf": {
          "model_module": "@jupyter-widgets/base",
          "model_module_version": "1.2.0",
          "model_name": "LayoutModel",
          "state": {
            "_model_module": "@jupyter-widgets/base",
            "_model_module_version": "1.2.0",
            "_model_name": "LayoutModel",
            "_view_count": null,
            "_view_module": "@jupyter-widgets/base",
            "_view_module_version": "1.2.0",
            "_view_name": "LayoutView",
            "align_content": null,
            "align_items": null,
            "align_self": null,
            "border": null,
            "bottom": null,
            "display": null,
            "flex": null,
            "flex_flow": null,
            "grid_area": null,
            "grid_auto_columns": null,
            "grid_auto_flow": null,
            "grid_auto_rows": null,
            "grid_column": null,
            "grid_gap": null,
            "grid_row": null,
            "grid_template_areas": null,
            "grid_template_columns": null,
            "grid_template_rows": null,
            "height": null,
            "justify_content": null,
            "justify_items": null,
            "left": null,
            "margin": null,
            "max_height": null,
            "max_width": null,
            "min_height": null,
            "min_width": null,
            "object_fit": null,
            "object_position": null,
            "order": null,
            "overflow": null,
            "overflow_x": null,
            "overflow_y": null,
            "padding": null,
            "right": null,
            "top": null,
            "visibility": null,
            "width": null
          }
        },
        "4fd4db4f6a21410987c74f47b1321a26": {
          "model_module": "@jupyter-widgets/controls",
          "model_module_version": "1.5.0",
          "model_name": "HTMLModel",
          "state": {
            "_dom_classes": [],
            "_model_module": "@jupyter-widgets/controls",
            "_model_module_version": "1.5.0",
            "_model_name": "HTMLModel",
            "_view_count": null,
            "_view_module": "@jupyter-widgets/controls",
            "_view_module_version": "1.5.0",
            "_view_name": "HTMLView",
            "description": "",
            "description_tooltip": null,
            "layout": "IPY_MODEL_1e9cf4ada59b4e7d9ee04ecdb818133f",
            "placeholder": "​",
            "style": "IPY_MODEL_7b2c0dbdc36f4a1fa45f0535e8f84fd7",
            "value": " 3.44G/3.44G [00:23&lt;00:00, 156MB/s]"
          }
        },
        "56ca55641e514211b55cfd7c4155627d": {
          "model_module": "@jupyter-widgets/controls",
          "model_module_version": "1.5.0",
          "model_name": "DescriptionStyleModel",
          "state": {
            "_model_module": "@jupyter-widgets/controls",
            "_model_module_version": "1.5.0",
            "_model_name": "DescriptionStyleModel",
            "_view_count": null,
            "_view_module": "@jupyter-widgets/base",
            "_view_module_version": "1.2.0",
            "_view_name": "StyleView",
            "description_width": ""
          }
        },
        "5769035516ac4227b306b8909a5dd79b": {
          "model_module": "@jupyter-widgets/base",
          "model_module_version": "1.2.0",
          "model_name": "LayoutModel",
          "state": {
            "_model_module": "@jupyter-widgets/base",
            "_model_module_version": "1.2.0",
            "_model_name": "LayoutModel",
            "_view_count": null,
            "_view_module": "@jupyter-widgets/base",
            "_view_module_version": "1.2.0",
            "_view_name": "LayoutView",
            "align_content": null,
            "align_items": null,
            "align_self": null,
            "border": null,
            "bottom": null,
            "display": null,
            "flex": null,
            "flex_flow": null,
            "grid_area": null,
            "grid_auto_columns": null,
            "grid_auto_flow": null,
            "grid_auto_rows": null,
            "grid_column": null,
            "grid_gap": null,
            "grid_row": null,
            "grid_template_areas": null,
            "grid_template_columns": null,
            "grid_template_rows": null,
            "height": null,
            "justify_content": null,
            "justify_items": null,
            "left": null,
            "margin": null,
            "max_height": null,
            "max_width": null,
            "min_height": null,
            "min_width": null,
            "object_fit": null,
            "object_position": null,
            "order": null,
            "overflow": null,
            "overflow_x": null,
            "overflow_y": null,
            "padding": null,
            "right": null,
            "top": null,
            "visibility": null,
            "width": null
          }
        },
        "5ae2be87a5f24799bc43f7f92ae7a237": {
          "model_module": "@jupyter-widgets/base",
          "model_module_version": "1.2.0",
          "model_name": "LayoutModel",
          "state": {
            "_model_module": "@jupyter-widgets/base",
            "_model_module_version": "1.2.0",
            "_model_name": "LayoutModel",
            "_view_count": null,
            "_view_module": "@jupyter-widgets/base",
            "_view_module_version": "1.2.0",
            "_view_name": "LayoutView",
            "align_content": null,
            "align_items": null,
            "align_self": null,
            "border": null,
            "bottom": null,
            "display": null,
            "flex": null,
            "flex_flow": null,
            "grid_area": null,
            "grid_auto_columns": null,
            "grid_auto_flow": null,
            "grid_auto_rows": null,
            "grid_column": null,
            "grid_gap": null,
            "grid_row": null,
            "grid_template_areas": null,
            "grid_template_columns": null,
            "grid_template_rows": null,
            "height": null,
            "justify_content": null,
            "justify_items": null,
            "left": null,
            "margin": null,
            "max_height": null,
            "max_width": null,
            "min_height": null,
            "min_width": null,
            "object_fit": null,
            "object_position": null,
            "order": null,
            "overflow": null,
            "overflow_x": null,
            "overflow_y": null,
            "padding": null,
            "right": null,
            "top": null,
            "visibility": null,
            "width": null
          }
        },
        "5ee14d0cf85f4f23a62500e35c5f65bb": {
          "model_module": "@jupyter-widgets/controls",
          "model_module_version": "1.5.0",
          "model_name": "ProgressStyleModel",
          "state": {
            "_model_module": "@jupyter-widgets/controls",
            "_model_module_version": "1.5.0",
            "_model_name": "ProgressStyleModel",
            "_view_count": null,
            "_view_module": "@jupyter-widgets/base",
            "_view_module_version": "1.2.0",
            "_view_name": "StyleView",
            "bar_color": null,
            "description_width": ""
          }
        },
        "624155adae7e4024a3acfb42e60a2f3c": {
          "model_module": "@jupyter-widgets/base",
          "model_module_version": "1.2.0",
          "model_name": "LayoutModel",
          "state": {
            "_model_module": "@jupyter-widgets/base",
            "_model_module_version": "1.2.0",
            "_model_name": "LayoutModel",
            "_view_count": null,
            "_view_module": "@jupyter-widgets/base",
            "_view_module_version": "1.2.0",
            "_view_name": "LayoutView",
            "align_content": null,
            "align_items": null,
            "align_self": null,
            "border": null,
            "bottom": null,
            "display": null,
            "flex": null,
            "flex_flow": null,
            "grid_area": null,
            "grid_auto_columns": null,
            "grid_auto_flow": null,
            "grid_auto_rows": null,
            "grid_column": null,
            "grid_gap": null,
            "grid_row": null,
            "grid_template_areas": null,
            "grid_template_columns": null,
            "grid_template_rows": null,
            "height": null,
            "justify_content": null,
            "justify_items": null,
            "left": null,
            "margin": null,
            "max_height": null,
            "max_width": null,
            "min_height": null,
            "min_width": null,
            "object_fit": null,
            "object_position": null,
            "order": null,
            "overflow": null,
            "overflow_x": null,
            "overflow_y": null,
            "padding": null,
            "right": null,
            "top": null,
            "visibility": null,
            "width": null
          }
        },
        "664a62dd25b94031b28104c78ca1da15": {
          "model_module": "@jupyter-widgets/controls",
          "model_module_version": "1.5.0",
          "model_name": "DescriptionStyleModel",
          "state": {
            "_model_module": "@jupyter-widgets/controls",
            "_model_module_version": "1.5.0",
            "_model_name": "DescriptionStyleModel",
            "_view_count": null,
            "_view_module": "@jupyter-widgets/base",
            "_view_module_version": "1.2.0",
            "_view_name": "StyleView",
            "description_width": ""
          }
        },
        "6792e3410a4d46f2be08619aaaa29f29": {
          "model_module": "@jupyter-widgets/base",
          "model_module_version": "1.2.0",
          "model_name": "LayoutModel",
          "state": {
            "_model_module": "@jupyter-widgets/base",
            "_model_module_version": "1.2.0",
            "_model_name": "LayoutModel",
            "_view_count": null,
            "_view_module": "@jupyter-widgets/base",
            "_view_module_version": "1.2.0",
            "_view_name": "LayoutView",
            "align_content": null,
            "align_items": null,
            "align_self": null,
            "border": null,
            "bottom": null,
            "display": null,
            "flex": null,
            "flex_flow": null,
            "grid_area": null,
            "grid_auto_columns": null,
            "grid_auto_flow": null,
            "grid_auto_rows": null,
            "grid_column": null,
            "grid_gap": null,
            "grid_row": null,
            "grid_template_areas": null,
            "grid_template_columns": null,
            "grid_template_rows": null,
            "height": null,
            "justify_content": null,
            "justify_items": null,
            "left": null,
            "margin": null,
            "max_height": null,
            "max_width": null,
            "min_height": null,
            "min_width": null,
            "object_fit": null,
            "object_position": null,
            "order": null,
            "overflow": null,
            "overflow_x": null,
            "overflow_y": null,
            "padding": null,
            "right": null,
            "top": null,
            "visibility": null,
            "width": null
          }
        },
        "6ae619accffc4317a46ecf1fab80f33f": {
          "model_module": "@jupyter-widgets/controls",
          "model_module_version": "1.5.0",
          "model_name": "DescriptionStyleModel",
          "state": {
            "_model_module": "@jupyter-widgets/controls",
            "_model_module_version": "1.5.0",
            "_model_name": "DescriptionStyleModel",
            "_view_count": null,
            "_view_module": "@jupyter-widgets/base",
            "_view_module_version": "1.2.0",
            "_view_name": "StyleView",
            "description_width": ""
          }
        },
        "6be19759c2d7400592ad57d439efc4a8": {
          "model_module": "@jupyter-widgets/controls",
          "model_module_version": "1.5.0",
          "model_name": "FloatProgressModel",
          "state": {
            "_dom_classes": [],
            "_model_module": "@jupyter-widgets/controls",
            "_model_module_version": "1.5.0",
            "_model_name": "FloatProgressModel",
            "_view_count": null,
            "_view_module": "@jupyter-widgets/controls",
            "_view_module_version": "1.5.0",
            "_view_name": "ProgressView",
            "bar_style": "success",
            "description": "",
            "description_tooltip": null,
            "layout": "IPY_MODEL_2dc66e4b9f314e17a45e5044c0bf717c",
            "max": 715,
            "min": 0,
            "orientation": "horizontal",
            "style": "IPY_MODEL_c73312303cc64ae2aa30604a74d9a4e8",
            "value": 715
          }
        },
        "7717c892c2f149af9bf1efbfd1a9f105": {
          "model_module": "@jupyter-widgets/controls",
          "model_module_version": "1.5.0",
          "model_name": "FloatProgressModel",
          "state": {
            "_dom_classes": [],
            "_model_module": "@jupyter-widgets/controls",
            "_model_module_version": "1.5.0",
            "_model_name": "FloatProgressModel",
            "_view_count": null,
            "_view_module": "@jupyter-widgets/controls",
            "_view_module_version": "1.5.0",
            "_view_name": "ProgressView",
            "bar_style": "success",
            "description": "",
            "description_tooltip": null,
            "layout": "IPY_MODEL_d6d2473663374301be31553033e9640f",
            "max": 85,
            "min": 0,
            "orientation": "horizontal",
            "style": "IPY_MODEL_c2fb6c69f44342ffa6a29e2748821eb8",
            "value": 85
          }
        },
        "787738b421dd4313b06ce6ee5866ebe0": {
          "model_module": "@jupyter-widgets/base",
          "model_module_version": "1.2.0",
          "model_name": "LayoutModel",
          "state": {
            "_model_module": "@jupyter-widgets/base",
            "_model_module_version": "1.2.0",
            "_model_name": "LayoutModel",
            "_view_count": null,
            "_view_module": "@jupyter-widgets/base",
            "_view_module_version": "1.2.0",
            "_view_name": "LayoutView",
            "align_content": null,
            "align_items": null,
            "align_self": null,
            "border": null,
            "bottom": null,
            "display": null,
            "flex": null,
            "flex_flow": null,
            "grid_area": null,
            "grid_auto_columns": null,
            "grid_auto_flow": null,
            "grid_auto_rows": null,
            "grid_column": null,
            "grid_gap": null,
            "grid_row": null,
            "grid_template_areas": null,
            "grid_template_columns": null,
            "grid_template_rows": null,
            "height": null,
            "justify_content": null,
            "justify_items": null,
            "left": null,
            "margin": null,
            "max_height": null,
            "max_width": null,
            "min_height": null,
            "min_width": null,
            "object_fit": null,
            "object_position": null,
            "order": null,
            "overflow": null,
            "overflow_x": null,
            "overflow_y": null,
            "padding": null,
            "right": null,
            "top": null,
            "visibility": null,
            "width": null
          }
        },
        "7adb8f1187ec407e83efad1b5f208039": {
          "model_module": "@jupyter-widgets/controls",
          "model_module_version": "1.5.0",
          "model_name": "FloatProgressModel",
          "state": {
            "_dom_classes": [],
            "_model_module": "@jupyter-widgets/controls",
            "_model_module_version": "1.5.0",
            "_model_name": "FloatProgressModel",
            "_view_count": null,
            "_view_module": "@jupyter-widgets/controls",
            "_view_module_version": "1.5.0",
            "_view_name": "ProgressView",
            "bar_style": "success",
            "description": "",
            "description_tooltip": null,
            "layout": "IPY_MODEL_3495af29ab404bd983dd4736022ed8d3",
            "max": 14500438,
            "min": 0,
            "orientation": "horizontal",
            "style": "IPY_MODEL_38e8e692f3204347842121374223ef7e",
            "value": 14500438
          }
        },
        "7af9d2fe54494043a81016c88688ff7d": {
          "model_module": "@jupyter-widgets/base",
          "model_module_version": "1.2.0",
          "model_name": "LayoutModel",
          "state": {
            "_model_module": "@jupyter-widgets/base",
            "_model_module_version": "1.2.0",
            "_model_name": "LayoutModel",
            "_view_count": null,
            "_view_module": "@jupyter-widgets/base",
            "_view_module_version": "1.2.0",
            "_view_name": "LayoutView",
            "align_content": null,
            "align_items": null,
            "align_self": null,
            "border": null,
            "bottom": null,
            "display": null,
            "flex": null,
            "flex_flow": null,
            "grid_area": null,
            "grid_auto_columns": null,
            "grid_auto_flow": null,
            "grid_auto_rows": null,
            "grid_column": null,
            "grid_gap": null,
            "grid_row": null,
            "grid_template_areas": null,
            "grid_template_columns": null,
            "grid_template_rows": null,
            "height": null,
            "justify_content": null,
            "justify_items": null,
            "left": null,
            "margin": null,
            "max_height": null,
            "max_width": null,
            "min_height": null,
            "min_width": null,
            "object_fit": null,
            "object_position": null,
            "order": null,
            "overflow": null,
            "overflow_x": null,
            "overflow_y": null,
            "padding": null,
            "right": null,
            "top": null,
            "visibility": null,
            "width": null
          }
        },
        "7b2c0dbdc36f4a1fa45f0535e8f84fd7": {
          "model_module": "@jupyter-widgets/controls",
          "model_module_version": "1.5.0",
          "model_name": "DescriptionStyleModel",
          "state": {
            "_model_module": "@jupyter-widgets/controls",
            "_model_module_version": "1.5.0",
            "_model_name": "DescriptionStyleModel",
            "_view_count": null,
            "_view_module": "@jupyter-widgets/base",
            "_view_module_version": "1.2.0",
            "_view_name": "StyleView",
            "description_width": ""
          }
        },
        "7b7a3f1506a54a168431697243543d86": {
          "model_module": "@jupyter-widgets/controls",
          "model_module_version": "1.5.0",
          "model_name": "HTMLModel",
          "state": {
            "_dom_classes": [],
            "_model_module": "@jupyter-widgets/controls",
            "_model_module_version": "1.5.0",
            "_model_name": "HTMLModel",
            "_view_count": null,
            "_view_module": "@jupyter-widgets/controls",
            "_view_module_version": "1.5.0",
            "_view_name": "HTMLView",
            "description": "",
            "description_tooltip": null,
            "layout": "IPY_MODEL_397d5bc115af47c0b40d22ba59636ae2",
            "placeholder": "​",
            "style": "IPY_MODEL_1310027a48e646e2b38af2f8aece7ea7",
            "value": " 222/222 [00:00&lt;00:00, 12.4kB/s]"
          }
        },
        "83041a7bc0284e7dbde57a7706c034fc": {
          "model_module": "@jupyter-widgets/base",
          "model_module_version": "1.2.0",
          "model_name": "LayoutModel",
          "state": {
            "_model_module": "@jupyter-widgets/base",
            "_model_module_version": "1.2.0",
            "_model_name": "LayoutModel",
            "_view_count": null,
            "_view_module": "@jupyter-widgets/base",
            "_view_module_version": "1.2.0",
            "_view_name": "LayoutView",
            "align_content": null,
            "align_items": null,
            "align_self": null,
            "border": null,
            "bottom": null,
            "display": null,
            "flex": null,
            "flex_flow": null,
            "grid_area": null,
            "grid_auto_columns": null,
            "grid_auto_flow": null,
            "grid_auto_rows": null,
            "grid_column": null,
            "grid_gap": null,
            "grid_row": null,
            "grid_template_areas": null,
            "grid_template_columns": null,
            "grid_template_rows": null,
            "height": null,
            "justify_content": null,
            "justify_items": null,
            "left": null,
            "margin": null,
            "max_height": null,
            "max_width": null,
            "min_height": null,
            "min_width": null,
            "object_fit": null,
            "object_position": null,
            "order": null,
            "overflow": null,
            "overflow_x": null,
            "overflow_y": null,
            "padding": null,
            "right": null,
            "top": null,
            "visibility": null,
            "width": null
          }
        },
        "92d4659bdb9a45efa94066cfd35f75a4": {
          "model_module": "@jupyter-widgets/base",
          "model_module_version": "1.2.0",
          "model_name": "LayoutModel",
          "state": {
            "_model_module": "@jupyter-widgets/base",
            "_model_module_version": "1.2.0",
            "_model_name": "LayoutModel",
            "_view_count": null,
            "_view_module": "@jupyter-widgets/base",
            "_view_module_version": "1.2.0",
            "_view_name": "LayoutView",
            "align_content": null,
            "align_items": null,
            "align_self": null,
            "border": null,
            "bottom": null,
            "display": null,
            "flex": null,
            "flex_flow": null,
            "grid_area": null,
            "grid_auto_columns": null,
            "grid_auto_flow": null,
            "grid_auto_rows": null,
            "grid_column": null,
            "grid_gap": null,
            "grid_row": null,
            "grid_template_areas": null,
            "grid_template_columns": null,
            "grid_template_rows": null,
            "height": null,
            "justify_content": null,
            "justify_items": null,
            "left": null,
            "margin": null,
            "max_height": null,
            "max_width": null,
            "min_height": null,
            "min_width": null,
            "object_fit": null,
            "object_position": null,
            "order": null,
            "overflow": null,
            "overflow_x": null,
            "overflow_y": null,
            "padding": null,
            "right": null,
            "top": null,
            "visibility": null,
            "width": null
          }
        },
        "9ec988a0b95840f19eb280ea3c99e0ab": {
          "model_module": "@jupyter-widgets/controls",
          "model_module_version": "1.5.0",
          "model_name": "DescriptionStyleModel",
          "state": {
            "_model_module": "@jupyter-widgets/controls",
            "_model_module_version": "1.5.0",
            "_model_name": "DescriptionStyleModel",
            "_view_count": null,
            "_view_module": "@jupyter-widgets/base",
            "_view_module_version": "1.2.0",
            "_view_name": "StyleView",
            "description_width": ""
          }
        },
        "a1a2ca3caf184848896fe6d502b6bd7b": {
          "model_module": "@jupyter-widgets/base",
          "model_module_version": "1.2.0",
          "model_name": "LayoutModel",
          "state": {
            "_model_module": "@jupyter-widgets/base",
            "_model_module_version": "1.2.0",
            "_model_name": "LayoutModel",
            "_view_count": null,
            "_view_module": "@jupyter-widgets/base",
            "_view_module_version": "1.2.0",
            "_view_name": "LayoutView",
            "align_content": null,
            "align_items": null,
            "align_self": null,
            "border": null,
            "bottom": null,
            "display": null,
            "flex": null,
            "flex_flow": null,
            "grid_area": null,
            "grid_auto_columns": null,
            "grid_auto_flow": null,
            "grid_auto_rows": null,
            "grid_column": null,
            "grid_gap": null,
            "grid_row": null,
            "grid_template_areas": null,
            "grid_template_columns": null,
            "grid_template_rows": null,
            "height": null,
            "justify_content": null,
            "justify_items": null,
            "left": null,
            "margin": null,
            "max_height": null,
            "max_width": null,
            "min_height": null,
            "min_width": null,
            "object_fit": null,
            "object_position": null,
            "order": null,
            "overflow": null,
            "overflow_x": null,
            "overflow_y": null,
            "padding": null,
            "right": null,
            "top": null,
            "visibility": null,
            "width": null
          }
        },
        "a299463bd25f4c1daebc2478e07f138d": {
          "model_module": "@jupyter-widgets/controls",
          "model_module_version": "1.5.0",
          "model_name": "DescriptionStyleModel",
          "state": {
            "_model_module": "@jupyter-widgets/controls",
            "_model_module_version": "1.5.0",
            "_model_name": "DescriptionStyleModel",
            "_view_count": null,
            "_view_module": "@jupyter-widgets/base",
            "_view_module_version": "1.2.0",
            "_view_name": "StyleView",
            "description_width": ""
          }
        },
        "a3e6ea2d12d34bbab16da6486e5fa3a7": {
          "model_module": "@jupyter-widgets/controls",
          "model_module_version": "1.5.0",
          "model_name": "DescriptionStyleModel",
          "state": {
            "_model_module": "@jupyter-widgets/controls",
            "_model_module_version": "1.5.0",
            "_model_name": "DescriptionStyleModel",
            "_view_count": null,
            "_view_module": "@jupyter-widgets/base",
            "_view_module_version": "1.2.0",
            "_view_name": "StyleView",
            "description_width": ""
          }
        },
        "a6e2ae757a0b4f819ff6596df2bcda04": {
          "model_module": "@jupyter-widgets/controls",
          "model_module_version": "1.5.0",
          "model_name": "HTMLModel",
          "state": {
            "_dom_classes": [],
            "_model_module": "@jupyter-widgets/controls",
            "_model_module_version": "1.5.0",
            "_model_name": "HTMLModel",
            "_view_count": null,
            "_view_module": "@jupyter-widgets/controls",
            "_view_module_version": "1.5.0",
            "_view_name": "HTMLView",
            "description": "",
            "description_tooltip": null,
            "layout": "IPY_MODEL_e17f98fc9b4942fe889cc5d47584c7e9",
            "placeholder": "​",
            "style": "IPY_MODEL_9ec988a0b95840f19eb280ea3c99e0ab",
            "value": " 85.0/85.0 [00:00&lt;00:00, 5.50kB/s]"
          }
        },
        "b3c957b4f8294b909bdb700872da246c": {
          "model_module": "@jupyter-widgets/controls",
          "model_module_version": "1.5.0",
          "model_name": "HBoxModel",
          "state": {
            "_dom_classes": [],
            "_model_module": "@jupyter-widgets/controls",
            "_model_module_version": "1.5.0",
            "_model_name": "HBoxModel",
            "_view_count": null,
            "_view_module": "@jupyter-widgets/controls",
            "_view_module_version": "1.5.0",
            "_view_name": "HBoxView",
            "box_style": "",
            "children": [
              "IPY_MODEL_ebcabce463ab410fbf9d1d7dd59c01b3",
              "IPY_MODEL_7adb8f1187ec407e83efad1b5f208039",
              "IPY_MODEL_2b1edbd085e34432b947d8951f0f095b"
            ],
            "layout": "IPY_MODEL_5769035516ac4227b306b8909a5dd79b"
          }
        },
        "b6bb01e97e644eb495612dd4d6c800f7": {
          "model_module": "@jupyter-widgets/controls",
          "model_module_version": "1.5.0",
          "model_name": "HBoxModel",
          "state": {
            "_dom_classes": [],
            "_model_module": "@jupyter-widgets/controls",
            "_model_module_version": "1.5.0",
            "_model_name": "HBoxModel",
            "_view_count": null,
            "_view_module": "@jupyter-widgets/controls",
            "_view_module_version": "1.5.0",
            "_view_name": "HBoxView",
            "box_style": "",
            "children": [
              "IPY_MODEL_c5b0303aa7ff424caf161355956088b0",
              "IPY_MODEL_21c6b0045171415893a85a04d325e48c",
              "IPY_MODEL_7b7a3f1506a54a168431697243543d86"
            ],
            "layout": "IPY_MODEL_7af9d2fe54494043a81016c88688ff7d"
          }
        },
        "bc47f01a6acb49ed8d0e0a95b7e48eaa": {
          "model_module": "@jupyter-widgets/controls",
          "model_module_version": "1.5.0",
          "model_name": "DescriptionStyleModel",
          "state": {
            "_model_module": "@jupyter-widgets/controls",
            "_model_module_version": "1.5.0",
            "_model_name": "DescriptionStyleModel",
            "_view_count": null,
            "_view_module": "@jupyter-widgets/base",
            "_view_module_version": "1.2.0",
            "_view_name": "StyleView",
            "description_width": ""
          }
        },
        "bc755b5c960549eca2bc9c478a2335d5": {
          "model_module": "@jupyter-widgets/controls",
          "model_module_version": "1.5.0",
          "model_name": "HBoxModel",
          "state": {
            "_dom_classes": [],
            "_model_module": "@jupyter-widgets/controls",
            "_model_module_version": "1.5.0",
            "_model_name": "HBoxModel",
            "_view_count": null,
            "_view_module": "@jupyter-widgets/controls",
            "_view_module_version": "1.5.0",
            "_view_name": "HBoxView",
            "box_style": "",
            "children": [
              "IPY_MODEL_29744ba833c34dc79d3b7f00e02a9a27",
              "IPY_MODEL_19b56485b0eb47788c48cae59a7d2bfa",
              "IPY_MODEL_4fd4db4f6a21410987c74f47b1321a26"
            ],
            "layout": "IPY_MODEL_5ae2be87a5f24799bc43f7f92ae7a237"
          }
        },
        "c09f44b653114ecf8dd415881ab6b93d": {
          "model_module": "@jupyter-widgets/controls",
          "model_module_version": "1.5.0",
          "model_name": "HTMLModel",
          "state": {
            "_dom_classes": [],
            "_model_module": "@jupyter-widgets/controls",
            "_model_module_version": "1.5.0",
            "_model_name": "HTMLModel",
            "_view_count": null,
            "_view_module": "@jupyter-widgets/controls",
            "_view_module_version": "1.5.0",
            "_view_name": "HTMLView",
            "description": "",
            "description_tooltip": null,
            "layout": "IPY_MODEL_92d4659bdb9a45efa94066cfd35f75a4",
            "placeholder": "​",
            "style": "IPY_MODEL_664a62dd25b94031b28104c78ca1da15",
            "value": " 715/715 [00:00&lt;00:00, 34.9kB/s]"
          }
        },
        "c2fb6c69f44342ffa6a29e2748821eb8": {
          "model_module": "@jupyter-widgets/controls",
          "model_module_version": "1.5.0",
          "model_name": "ProgressStyleModel",
          "state": {
            "_model_module": "@jupyter-widgets/controls",
            "_model_module_version": "1.5.0",
            "_model_name": "ProgressStyleModel",
            "_view_count": null,
            "_view_module": "@jupyter-widgets/base",
            "_view_module_version": "1.2.0",
            "_view_name": "StyleView",
            "bar_color": null,
            "description_width": ""
          }
        },
        "c5b0303aa7ff424caf161355956088b0": {
          "model_module": "@jupyter-widgets/controls",
          "model_module_version": "1.5.0",
          "model_name": "HTMLModel",
          "state": {
            "_dom_classes": [],
            "_model_module": "@jupyter-widgets/controls",
            "_model_module_version": "1.5.0",
            "_model_name": "HTMLModel",
            "_view_count": null,
            "_view_module": "@jupyter-widgets/controls",
            "_view_module_version": "1.5.0",
            "_view_name": "HTMLView",
            "description": "",
            "description_tooltip": null,
            "layout": "IPY_MODEL_787738b421dd4313b06ce6ee5866ebe0",
            "placeholder": "​",
            "style": "IPY_MODEL_a299463bd25f4c1daebc2478e07f138d",
            "value": "Downloading (…)okenizer_config.json: 100%"
          }
        },
        "c73312303cc64ae2aa30604a74d9a4e8": {
          "model_module": "@jupyter-widgets/controls",
          "model_module_version": "1.5.0",
          "model_name": "ProgressStyleModel",
          "state": {
            "_model_module": "@jupyter-widgets/controls",
            "_model_module_version": "1.5.0",
            "_model_name": "ProgressStyleModel",
            "_view_count": null,
            "_view_module": "@jupyter-widgets/base",
            "_view_module_version": "1.2.0",
            "_view_name": "StyleView",
            "bar_color": null,
            "description_width": ""
          }
        },
        "c740a5b637264f3db85c66aa3b866c4f": {
          "model_module": "@jupyter-widgets/controls",
          "model_module_version": "1.5.0",
          "model_name": "DescriptionStyleModel",
          "state": {
            "_model_module": "@jupyter-widgets/controls",
            "_model_module_version": "1.5.0",
            "_model_name": "DescriptionStyleModel",
            "_view_count": null,
            "_view_module": "@jupyter-widgets/base",
            "_view_module_version": "1.2.0",
            "_view_name": "StyleView",
            "description_width": ""
          }
        },
        "d6d2473663374301be31553033e9640f": {
          "model_module": "@jupyter-widgets/base",
          "model_module_version": "1.2.0",
          "model_name": "LayoutModel",
          "state": {
            "_model_module": "@jupyter-widgets/base",
            "_model_module_version": "1.2.0",
            "_model_name": "LayoutModel",
            "_view_count": null,
            "_view_module": "@jupyter-widgets/base",
            "_view_module_version": "1.2.0",
            "_view_name": "LayoutView",
            "align_content": null,
            "align_items": null,
            "align_self": null,
            "border": null,
            "bottom": null,
            "display": null,
            "flex": null,
            "flex_flow": null,
            "grid_area": null,
            "grid_auto_columns": null,
            "grid_auto_flow": null,
            "grid_auto_rows": null,
            "grid_column": null,
            "grid_gap": null,
            "grid_row": null,
            "grid_template_areas": null,
            "grid_template_columns": null,
            "grid_template_rows": null,
            "height": null,
            "justify_content": null,
            "justify_items": null,
            "left": null,
            "margin": null,
            "max_height": null,
            "max_width": null,
            "min_height": null,
            "min_width": null,
            "object_fit": null,
            "object_position": null,
            "order": null,
            "overflow": null,
            "overflow_x": null,
            "overflow_y": null,
            "padding": null,
            "right": null,
            "top": null,
            "visibility": null,
            "width": null
          }
        },
        "dde14aff11ad4c7382e72b2cb7f9103c": {
          "model_module": "@jupyter-widgets/controls",
          "model_module_version": "1.5.0",
          "model_name": "ProgressStyleModel",
          "state": {
            "_model_module": "@jupyter-widgets/controls",
            "_model_module_version": "1.5.0",
            "_model_name": "ProgressStyleModel",
            "_view_count": null,
            "_view_module": "@jupyter-widgets/base",
            "_view_module_version": "1.2.0",
            "_view_name": "StyleView",
            "bar_color": null,
            "description_width": ""
          }
        },
        "e17f98fc9b4942fe889cc5d47584c7e9": {
          "model_module": "@jupyter-widgets/base",
          "model_module_version": "1.2.0",
          "model_name": "LayoutModel",
          "state": {
            "_model_module": "@jupyter-widgets/base",
            "_model_module_version": "1.2.0",
            "_model_name": "LayoutModel",
            "_view_count": null,
            "_view_module": "@jupyter-widgets/base",
            "_view_module_version": "1.2.0",
            "_view_name": "LayoutView",
            "align_content": null,
            "align_items": null,
            "align_self": null,
            "border": null,
            "bottom": null,
            "display": null,
            "flex": null,
            "flex_flow": null,
            "grid_area": null,
            "grid_auto_columns": null,
            "grid_auto_flow": null,
            "grid_auto_rows": null,
            "grid_column": null,
            "grid_gap": null,
            "grid_row": null,
            "grid_template_areas": null,
            "grid_template_columns": null,
            "grid_template_rows": null,
            "height": null,
            "justify_content": null,
            "justify_items": null,
            "left": null,
            "margin": null,
            "max_height": null,
            "max_width": null,
            "min_height": null,
            "min_width": null,
            "object_fit": null,
            "object_position": null,
            "order": null,
            "overflow": null,
            "overflow_x": null,
            "overflow_y": null,
            "padding": null,
            "right": null,
            "top": null,
            "visibility": null,
            "width": null
          }
        },
        "ebcabce463ab410fbf9d1d7dd59c01b3": {
          "model_module": "@jupyter-widgets/controls",
          "model_module_version": "1.5.0",
          "model_name": "HTMLModel",
          "state": {
            "_dom_classes": [],
            "_model_module": "@jupyter-widgets/controls",
            "_model_module_version": "1.5.0",
            "_model_name": "HTMLModel",
            "_view_count": null,
            "_view_module": "@jupyter-widgets/controls",
            "_view_module_version": "1.5.0",
            "_view_name": "HTMLView",
            "description": "",
            "description_tooltip": null,
            "layout": "IPY_MODEL_071d4a7fb2d04e7fab4c33378ebf5cae",
            "placeholder": "​",
            "style": "IPY_MODEL_a3e6ea2d12d34bbab16da6486e5fa3a7",
            "value": "Downloading tokenizer.json: 100%"
          }
        },
        "f398468fba754117a8eac52c5e79810b": {
          "model_module": "@jupyter-widgets/controls",
          "model_module_version": "1.5.0",
          "model_name": "HTMLModel",
          "state": {
            "_dom_classes": [],
            "_model_module": "@jupyter-widgets/controls",
            "_model_module_version": "1.5.0",
            "_model_name": "HTMLModel",
            "_view_count": null,
            "_view_module": "@jupyter-widgets/controls",
            "_view_module_version": "1.5.0",
            "_view_name": "HTMLView",
            "description": "",
            "description_tooltip": null,
            "layout": "IPY_MODEL_a1a2ca3caf184848896fe6d502b6bd7b",
            "placeholder": "​",
            "style": "IPY_MODEL_56ca55641e514211b55cfd7c4155627d",
            "value": "Downloading (…)lve/main/config.json: 100%"
          }
        }
      }
    }
  },
  "nbformat": 4,
  "nbformat_minor": 0
}
