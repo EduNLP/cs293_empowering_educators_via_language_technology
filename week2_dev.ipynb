{
  "cells": [
    {
      "attachments": {},
      "cell_type": "markdown",
      "metadata": {
        "id": "ewnvqfQIJLSW"
      },
      "source": [
        "# Week 2: Training, Loading, and Evaluating NLP models on Education Data"
      ]
    },
    {
      "cell_type": "code",
      "execution_count": null,
      "metadata": {
        "id": "XEpG-74yJLSZ"
      },
      "outputs": [],
      "source": [
        "__author__ = \"Rose E. Wang, Dorottya Demszky\"\n",
        "__version__ = \"CS293/EDUC473, Stanford, Fall 2023\""
      ]
    },
    {
      "attachments": {},
      "cell_type": "markdown",
      "metadata": {
        "id": "3hfn-r3oJLSb"
      },
      "source": [
        "# Table of Contents\n",
        "\n",
        "* [Overview](#overview)\n",
        "    * [Your Deliverables](#your-deliverables)\n",
        "    * [Important Setup Details](#important-setup-details)\n",
        "* [Model Training and Evaluation](#model-training-and-evaluation)\n",
        "* [Inference](#inference)\n",
        "* [Linear Regression](#linear-regression)\n",
        "* [Assignment](#assignment)\n",
        "* [Extra Assignment](#extra-assignment)"
      ]
    },
    {
      "attachments": {},
      "cell_type": "markdown",
      "metadata": {
        "id": "clBoLthMJLSb"
      },
      "source": [
        "# Overview\n",
        "\n",
        "The purpose of this notebook is to walk you through loading and evaluating a language model on the NCTE dataset we used in the last assignment.\n",
        "\n",
        "We will discuss:\n",
        "- How to load and run inference on a pre-trained language model on a classification task (student reasoning)\n",
        "- How to use a pre-trained language model to label data and run linear regression  on the model predictions\n",
        "\n",
        "Ultimately, we are interested in using pre-trained language models to label instances of student reasoning, and then use those labels to understand whether student reasoning correlates with outcome measures like the MQI scores.\n",
        "This is one way of answering the question: \"Does more student reasoning lead to better outcomes?\"\n",
        "\n",
        "## Your Deliverables\n",
        "\n",
        "To receive credit for this assignment, please upload the PDF version of your ENTIRE Colab that includes all your code and written responses to Gradescope.\n",
        "\n",
        "## Important Setup Details\n",
        "\n",
        "We will be training a model in this assignment. To ensure training goes reasonably fast, make sure you connect your Colab to a GPU.\n",
        "\n",
        "To do so:\n",
        "- Navigate to the right handside buttons\n",
        "- Click on the down-arrow button\n",
        "- Click \"Change runtime type\"\n",
        "- Make sure the runtime type is the GPU option e.g., \"T4 GPU\"\n",
        "\n",
        "## Note\n",
        "\n",
        "We are assuming you are running everything within Colab. We are not responsible for bugs created outside of the Colab environment.\n",
        "\n",
        "\n",
        "## Linking this Colab to your GDrive\n",
        "\n",
        "Again, like last time, make sure you link the Colab to your GDrive. Follow the previous assignment for the instructions."
      ]
    },
    {
      "cell_type": "code",
      "execution_count": null,
      "metadata": {
        "colab": {
          "base_uri": "https://localhost:8080/"
        },
        "id": "laSozdK5WQbd",
        "outputId": "04fd1522-0bb4-4589-80e9-8825f35b51a0"
      },
      "outputs": [],
      "source": [
        "from google.colab import drive\n",
        "drive.mount('/content/drive')\n",
        "\n",
        "# Change this directory!\n",
        "DIR_PATH = \"/content/drive/MyDrive/CS293/empowering_educators_via_language_technology-main\""
      ]
    },
    {
      "attachments": {},
      "cell_type": "markdown",
      "metadata": {
        "id": "lZJC3AoBJLSc"
      },
      "source": [
        "# Model (Training and) Loading\n",
        "\n",
        "In this section, we will load a pre-trained classifier that recognizes student reasoning data and evaluate the model's performance.\n",
        "Specifically, we will use a RoBERTa model [1] on the student reasoning data we saw in the previous assignment.\n",
        "This model was trained and validated using the procedure outlined in the original NCTE paper.\n",
        "Please take a look at that paper if you are interested in this!\n",
        "\n",
        "**Why are we loading a model and not training it?**\n",
        "This is due to compute constraints on the free version of Colab... I did a lot of testing to try to get training to work within its budget, but these were unfortunately unsuccessful trials!\n",
        "If you are interested in training your own models and have the compute to do so, please let me know and I'm happy to share the training scripts!\n",
        "\n",
        "[1] Liu, Yinhan, et al. \"Roberta: A robustly optimized bert pretraining approach.\" arXiv preprint arXiv:1907.11692 (2019)."
      ]
    },
    {
      "cell_type": "code",
      "execution_count": null,
      "metadata": {
        "colab": {
          "base_uri": "https://localhost:8080/"
        },
        "id": "qC89hobAO8uc",
        "outputId": "29ebc5e1-439f-496a-b54f-18508d965d5f"
      },
      "outputs": [],
      "source": [
        "!pip install transformers"
      ]
    },
    {
      "attachments": {},
      "cell_type": "markdown",
      "metadata": {
        "id": "jIC6BYv8OX_b"
      },
      "source": [
        "We'll be loading the model from [HuggingFace](https://huggingface.co/models) which, amongst other things, provides a repository of pre-trained models."
      ]
    },
    {
      "cell_type": "code",
      "execution_count": null,
      "metadata": {
        "colab": {
          "base_uri": "https://localhost:8080/",
          "height": 194,
          "referenced_widgets": [
            "a49f233aa8ba4b298db2581599fa0886",
            "f000c9126c3f45ec8eeb3f1aa598b707",
            "b384a022884d449282f1a3a7034e7d13",
            "88321bbd63c2465e8eaf0045d7e017a8",
            "bb35bbce749c48c1bd8cc9371b9ece21",
            "d4273246ab6242578666b68795e2b748",
            "40d1514b652a4cc093dca8d6a2f79987",
            "bf0fca890f7a4669bc1d05619fdccefb",
            "ab8f0501e7d54c09967c8187d127c8ec",
            "0a8b5b76984e4296a1b6da9e56dc61f7",
            "6d5f0eec1e7b42d0baaa828dca089ed2",
            "27d9e5a27afc40afa39429f3526a106a",
            "8a68195d2eff4fc09f81eacaa3daea1d",
            "966fcad571734a09a8232de852cf9668",
            "fded8d3c8b2e4d5ca9ab9cd3a505a915",
            "16b16fbd67bd4a33aee480d3f612a8ca",
            "56d564e6d1cc4897b5cca5fd3085f5c2",
            "d9d165acca904c628da6489c1a43c4ef",
            "5efb36e221684d1184efe54a3e536f83",
            "525f1ae7d66d4bd0b24ac438fe720aa6",
            "762c37a45c2e4a30a246a8eb1ebf1a5f",
            "6b4e9333cb6744c4a51da761bb7321bd",
            "7591d19b77274801b6ba2c2d4652a969",
            "de862daa651544e8886ae4839d9d2e8a",
            "ad6ae8f87a6047f980fed617aca0e134",
            "40b784071c17446aab68e829220034ea",
            "55f9c5c89acf479da9437926bcc313cd",
            "9405329e054d42a1a8ac2e9bafea8b4b",
            "028d0e4e74ef4f7cb777e07996196119",
            "7f0c2e683a2e40b7bcd00f778020cba5",
            "667452d294344f0892ea799a27bcefbd",
            "7f56e761d11f49848eb306c6838040c9",
            "c87cd5555cd7408daa95689ee258b73f",
            "4aba033035374dd5b40d9f96f93c715b",
            "1983f5d1f9064d1c9c37fa70fa60198b",
            "c962b47fc0dd4390aa5f6b3fd61628fa",
            "5777c4335d7c4acaad387647a687bcad",
            "701e9bdc97b74b2196e70bc1430710f1",
            "cd534cab7b174c22963ff2956a7a4795",
            "aa6259ce9b4545649c5ff31a693c9e4e",
            "4dae0b35d62c480785c3e6141c5c0759",
            "ce88f66c909f445989dacefc46e0bfe3",
            "2c7b9d64623540fa8dd6a9ce3461713c",
            "c64979394e194ebb8fee0648d71245cd",
            "27fbabd266ee4556ba45490594a06fe0",
            "4cb0e4e0bea74c8c943a3fef6af58ee4",
            "749b449586944b6d82f8838d47c38096",
            "51e9102e8f074ad7aa67a0376b03c69e",
            "617c381ead6c4c6a904da088c7320d0a",
            "cbc1a6185c8d458a9faa0af4cf78916b",
            "bea1af66fbf1450483432ea302fdb254",
            "ae9933c6593546bd908df7163e873aea",
            "bacd9d45176349018fbc28db0d045593",
            "7192a975ecc8495f81d66c06e7b3452a",
            "67d28222a8554e2fb8a09a99b86dacb2"
          ]
        },
        "id": "i2apCy5pOX_c",
        "outputId": "f1dd80c5-a8cb-489d-c412-e83dab31e48f"
      },
      "outputs": [],
      "source": [
        "from transformers import AutoTokenizer, AutoModelForSequenceClassification\n",
        "import torch\n",
        "from transformers.models.bert.modeling_bert import BertModel, BertPreTrainedModel\n",
        "from torch import nn\n",
        "from itertools import chain\n",
        "from torch.nn import MSELoss, CrossEntropyLoss\n",
        "import re\n",
        "\n",
        "\n",
        "HF_MODEL_NAME = \"ddemszky/student-reasoning\" # name of the huggingface model\n",
        "STUDENT_REASONING_MIN_NUM_WORDS = 8 # minimum number of words we consider for student reasoning\n",
        "REASONING_MAX_INPUT_LENGTH = 128 # maximum number of tokens for model\n",
        "\n",
        "device = \"cuda\" if torch.cuda.is_available() else \"cpu\"\n",
        "print(f'Using {device}') # This should be cuda (using GPU)\n",
        "\n",
        "class MultiHeadModel(BertPreTrainedModel):\n",
        "  \"\"\"Pre-trained BERT model that uses our loss functions\"\"\"\n",
        "\n",
        "  def __init__(self, config, head2size):\n",
        "    super(MultiHeadModel, self).__init__(config, head2size)\n",
        "    config.num_labels = 1\n",
        "    self.bert = BertModel(config)\n",
        "    self.dropout = nn.Dropout(config.hidden_dropout_prob)\n",
        "    module_dict = {}\n",
        "    for head_name, num_labels in head2size.items():\n",
        "      module_dict[head_name] = nn.Linear(config.hidden_size, num_labels)\n",
        "    self.heads = nn.ModuleDict(module_dict)\n",
        "\n",
        "    self.init_weights()\n",
        "\n",
        "  def forward(self, input_ids, token_type_ids=None, attention_mask=None,\n",
        "              head2labels=None, return_pooler_output=False, head2mask=None,\n",
        "              nsp_loss_weights=None):\n",
        "\n",
        "    device = \"cuda\" if torch.cuda.is_available() else \"cpu\"\n",
        "\n",
        "    # Get logits\n",
        "    output = self.bert(\n",
        "      input_ids, token_type_ids=token_type_ids, attention_mask=attention_mask,\n",
        "      output_attentions=False, output_hidden_states=False, return_dict=True)\n",
        "    pooled_output = self.dropout(output[\"pooler_output\"]).to(device)\n",
        "\n",
        "    head2logits = {}\n",
        "    return_dict = {}\n",
        "    for head_name, head in self.heads.items():\n",
        "      head2logits[head_name] = self.heads[head_name](pooled_output)\n",
        "      head2logits[head_name] = head2logits[head_name].float()\n",
        "      return_dict[head_name + \"_logits\"] = head2logits[head_name]\n",
        "\n",
        "\n",
        "    if head2labels is not None:\n",
        "      for head_name, labels in head2labels.items():\n",
        "        num_classes = head2logits[head_name].shape[1]\n",
        "\n",
        "        # Regression (e.g. for politeness)\n",
        "        if num_classes == 1:\n",
        "\n",
        "          # Only consider positive examples\n",
        "          if head2mask is not None and head_name in head2mask:\n",
        "            num_positives = head2labels[head2mask[head_name]].sum()  # use certain labels as mask\n",
        "            if num_positives == 0:\n",
        "              return_dict[head_name + \"_loss\"] = torch.tensor([0]).to(device)\n",
        "            else:\n",
        "              loss_fct = MSELoss(reduction='none')\n",
        "              loss = loss_fct(head2logits[head_name].view(-1), labels.float().view(-1))\n",
        "              return_dict[head_name + \"_loss\"] = loss.dot(head2labels[head2mask[head_name]].float().view(-1)) / num_positives\n",
        "          else:\n",
        "            loss_fct = MSELoss()\n",
        "            return_dict[head_name + \"_loss\"] = loss_fct(head2logits[head_name].view(-1), labels.float().view(-1))\n",
        "        else:\n",
        "          loss_fct = CrossEntropyLoss(weight=nsp_loss_weights.float())\n",
        "          return_dict[head_name + \"_loss\"] = loss_fct(head2logits[head_name], labels.view(-1))\n",
        "\n",
        "\n",
        "    if return_pooler_output:\n",
        "      return_dict[\"pooler_output\"] = output[\"pooler_output\"]\n",
        "\n",
        "    return return_dict\n",
        "\n",
        "class InputBuilder(object):\n",
        "  \"\"\"Base class for building inputs from segments.\"\"\"\n",
        "\n",
        "  def __init__(self, tokenizer):\n",
        "      self.tokenizer = tokenizer\n",
        "      self.mask = [tokenizer.mask_token_id]\n",
        "\n",
        "  def build_inputs(self, history, reply, max_length):\n",
        "      raise NotImplementedError\n",
        "\n",
        "  def mask_seq(self, sequence, seq_id):\n",
        "      sequence[seq_id] = self.mask\n",
        "      return sequence\n",
        "\n",
        "  @classmethod\n",
        "  def _combine_sequence(self, history, reply, max_length, flipped=False):\n",
        "      # Trim all inputs to max_length\n",
        "      history = [s[:max_length] for s in history]\n",
        "      reply = reply[:max_length]\n",
        "      if flipped:\n",
        "          return [reply] + history\n",
        "      return history + [reply]\n",
        "\n",
        "\n",
        "class BertInputBuilder(InputBuilder):\n",
        "  \"\"\"Processor for BERT inputs\"\"\"\n",
        "\n",
        "  def __init__(self, tokenizer):\n",
        "      InputBuilder.__init__(self, tokenizer)\n",
        "      self.cls = [tokenizer.cls_token_id]\n",
        "      self.sep = [tokenizer.sep_token_id]\n",
        "      self.model_inputs = [\"input_ids\", \"token_type_ids\", \"attention_mask\"]\n",
        "      self.padded_inputs = [\"input_ids\", \"token_type_ids\"]\n",
        "      self.flipped = False\n",
        "\n",
        "\n",
        "  def build_inputs(self, history, reply, max_length, input_str=True):\n",
        "    \"\"\"See base class.\"\"\"\n",
        "    if input_str:\n",
        "        history = [self.tokenizer.convert_tokens_to_ids(self.tokenizer.tokenize(t)) for t in history]\n",
        "        reply = self.tokenizer.convert_tokens_to_ids(self.tokenizer.tokenize(reply))\n",
        "    sequence = self._combine_sequence(history, reply, max_length, self.flipped)\n",
        "    sequence = [s + self.sep for s in sequence]\n",
        "    sequence[0] = self.cls + sequence[0]\n",
        "\n",
        "    instance = {}\n",
        "    instance[\"input_ids\"] = list(chain(*sequence))\n",
        "    last_speaker = 0\n",
        "    other_speaker = 1\n",
        "    seq_length = len(sequence)\n",
        "    instance[\"token_type_ids\"] = [last_speaker if ((seq_length - i) % 2 == 1) else other_speaker\n",
        "                                  for i, s in enumerate(sequence) for _ in s]\n",
        "    return instance\n",
        "\n",
        "# Initializing the tokenizer, model, input_builder\n",
        "tokenizer = AutoTokenizer.from_pretrained(HF_MODEL_NAME)\n",
        "student_reasoning_model = AutoModelForSequenceClassification.from_pretrained(HF_MODEL_NAME)\n",
        "input_builder = BertInputBuilder(tokenizer=tokenizer)"
      ]
    },
    {
      "attachments": {},
      "cell_type": "markdown",
      "metadata": {
        "id": "vGVfqcUlOX_d"
      },
      "source": [
        "This function will take in a dataframe and run the student reasoning model on it."
      ]
    },
    {
      "cell_type": "code",
      "execution_count": null,
      "metadata": {
        "id": "A0YTcqrgOX_f"
      },
      "outputs": [],
      "source": [
        "\n",
        "def get_score(text, max_length, model):\n",
        "    instance = input_builder.build_inputs([], text, max_length=max_length, input_str=True)\n",
        "    instance[\"attention_mask\"] = [[1] * len(instance[\"input_ids\"])]\n",
        "    for key in [\"input_ids\", \"token_type_ids\", \"attention_mask\"]:\n",
        "        instance[key] = torch.tensor(instance[key]).unsqueeze(0)  # Batch size = 1\n",
        "        instance[key].to(device)\n",
        "\n",
        "    output = model(\n",
        "        input_ids=instance[\"input_ids\"],\n",
        "        attention_mask=instance[\"attention_mask\"],\n",
        "        token_type_ids=instance[\"token_type_ids\"]\n",
        "    )\n",
        "    return output\n",
        "\n",
        "def run_student_reasoning_model(df, text_column, output_column='student_reasoning_score'):\n",
        "    \"\"\"\n",
        "    Runs the student reasoning model on the given dataframe.\n",
        "    :param df: dataframe with the data\n",
        "    :param speaker_column: name of the column with the speaker id\n",
        "    :param student_speaker_id: id of the student\n",
        "    :param text_column: name of the column with the text\n",
        "    :param output_column: name of the column with the output\n",
        "    \"\"\"\n",
        "    # Run inference\n",
        "    print(\"Running inference...\")\n",
        "    student_reasoning_scores = []\n",
        "    with torch.no_grad():\n",
        "        total_rows = len(df)\n",
        "        for i, (row_i, utt) in enumerate(df.iterrows()):\n",
        "            print(f\"Working on {i}/{total_rows}\")\n",
        "            num_words = len(utt[text_column].split(' '))\n",
        "            if num_words < STUDENT_REASONING_MIN_NUM_WORDS:\n",
        "                student_reasoning_scores.append(None)\n",
        "                continue\n",
        "\n",
        "            output = get_score(utt[text_column], max_length=REASONING_MAX_INPUT_LENGTH, model=student_reasoning_model)\n",
        "            is_reasoning = output[\"logits\"][0].argmax().item()\n",
        "            student_reasoning_scores.append(is_reasoning)\n",
        "\n",
        "    df[output_column] = student_reasoning_scores\n",
        "    result = {output_column: df[output_column].sum()}\n",
        "    return df, result"
      ]
    },
    {
      "attachments": {},
      "cell_type": "markdown",
      "metadata": {
        "id": "otLCSBfbRDfB"
      },
      "source": [
        "## Inference\n",
        "\n",
        "Now we run inference: We predict student reasoning for the entire NCTE transcript dataset."
      ]
    },
    {
      "cell_type": "code",
      "execution_count": null,
      "metadata": {
        "colab": {
          "base_uri": "https://localhost:8080/"
        },
        "id": "0yGc1yqo3cCU",
        "outputId": "572e738e-e73a-49cb-a8d2-ec837f29d7b7"
      },
      "outputs": [],
      "source": [
        "import pandas as pd\n",
        "import os\n",
        "\n",
        "# First let's prepare the dataset we want to get student reasoning over.\n",
        "# Get student reasoning candidates\n",
        "transcripts = pd.read_csv(os.path.join(DIR_PATH, 'data/ncte_single_utterances.csv'))\n",
        "student_reasoning_cands = transcripts[transcripts[\"speaker\"].isin([\"student\", \"multiple students\"])]\n",
        "student_reasoning_cands = student_reasoning_cands[student_reasoning_cands[\"num_words\"] >= 8]\n",
        "print(student_reasoning_cands.shape) # This should be 37272 rows."
      ]
    },
    {
      "cell_type": "code",
      "execution_count": null,
      "metadata": {
        "colab": {
          "base_uri": "https://localhost:8080/",
          "height": 206
        },
        "id": "rxCCWfnOPrbB",
        "outputId": "da89147d-b737-4cb8-e617-18ad22ba400d"
      },
      "outputs": [],
      "source": [
        "student_reasoning_cands.head()"
      ]
    },
    {
      "attachments": {},
      "cell_type": "markdown",
      "metadata": {
        "id": "KH988beehmtB"
      },
      "source": [
        "## IMPORTANT: The labeling takes a while to run. Do not close your laptop or let it sleep, otherwise you will lose your progress! Alternatively you can create a script that saves and reloads the data from its last copy."
      ]
    },
    {
      "cell_type": "code",
      "execution_count": null,
      "metadata": {
        "colab": {
          "base_uri": "https://localhost:8080/"
        },
        "id": "iz20YkuNOX_g",
        "outputId": "e8cc0c33-5cf9-4ff5-ebe0-19722d97ce9e"
      },
      "outputs": [],
      "source": [
        "PREDICTION_OUTPUT_COLUMN = \"student_reasoning_score\"\n",
        "OUTPUT_PATH = os.path.join(DIR_PATH, 'data/labeled_student_reasoning.csv')\n",
        "\n",
        "if os.path.exists(OUTPUT_PATH):\n",
        "    print(\"Loading labeled student reasoning...\")\n",
        "    student_reasoning_cands = pd.read_csv(OUTPUT_PATH)\n",
        "else:\n",
        "    student_reasoning_cands, prediction_scores = run_student_reasoning_model(\n",
        "        df=student_reasoning_cands,\n",
        "        text_column='text',\n",
        "        output_column=PREDICTION_OUTPUT_COLUMN\n",
        "    )\n"
      ]
    },
    {
      "cell_type": "code",
      "execution_count": null,
      "metadata": {
        "colab": {
          "base_uri": "https://localhost:8080/",
          "height": 293
        },
        "id": "f1X4QTsu4SrA",
        "outputId": "ac4be942-188a-49e4-da70-eaf5f923830d"
      },
      "outputs": [],
      "source": [
        "# Some examples\n",
        "student_reasoning_cands.head()"
      ]
    },
    {
      "attachments": {},
      "cell_type": "markdown",
      "metadata": {
        "id": "IZ_dgcYVQfYn"
      },
      "source": [
        "Let's map the student reasoning scores back to the original transcript dataframe:"
      ]
    },
    {
      "cell_type": "code",
      "execution_count": null,
      "metadata": {
        "id": "9UDloAj9Qml2"
      },
      "outputs": [],
      "source": [
        "transcripts[PREDICTION_OUTPUT_COLUMN] = transcripts['comb_idx'].map(student_reasoning_cands.set_index('comb_idx')[PREDICTION_OUTPUT_COLUMN].to_dict())\n"
      ]
    },
    {
      "cell_type": "code",
      "execution_count": null,
      "metadata": {
        "colab": {
          "base_uri": "https://localhost:8080/",
          "height": 276
        },
        "id": "sfTWfB85Zu-b",
        "outputId": "c5e7f742-faf0-481d-fa43-b10afb33337d"
      },
      "outputs": [],
      "source": [
        "transcripts.head()"
      ]
    },
    {
      "attachments": {},
      "cell_type": "markdown",
      "metadata": {
        "id": "6FgaZe4c6ALb"
      },
      "source": [
        "Note how `student_reasoning_pred` conatins NaNs for the rows that were not considered reasoning candidates.\n",
        "\n",
        "Let's set those to 0."
      ]
    },
    {
      "cell_type": "code",
      "execution_count": null,
      "metadata": {
        "colab": {
          "base_uri": "https://localhost:8080/"
        },
        "id": "VxInAp3F6HL2",
        "outputId": "7c8af210-b0bf-4455-f437-612ae2c8e942"
      },
      "outputs": [],
      "source": [
        "print(transcripts[PREDICTION_OUTPUT_COLUMN].isnull().sum())\n",
        "\n",
        "print(transcripts[PREDICTION_OUTPUT_COLUMN].sum())"
      ]
    },
    {
      "cell_type": "code",
      "execution_count": null,
      "metadata": {
        "id": "0BgIY3bo6HSH"
      },
      "outputs": [],
      "source": [
        "transcripts.loc[transcripts[PREDICTION_OUTPUT_COLUMN].isnull(), PREDICTION_OUTPUT_COLUMN] = 0"
      ]
    },
    {
      "cell_type": "code",
      "execution_count": null,
      "metadata": {
        "colab": {
          "base_uri": "https://localhost:8080/",
          "height": 293
        },
        "id": "4hbkPmPb6HUP",
        "outputId": "baacaf83-4e6c-43ba-8942-8488e9d71727"
      },
      "outputs": [],
      "source": [
        "print(transcripts[PREDICTION_OUTPUT_COLUMN].isnull().sum())\n",
        "transcripts.head() # No NaNs now"
      ]
    },
    {
      "attachments": {},
      "cell_type": "markdown",
      "metadata": {
        "id": "GG_Jow1z9j2Z"
      },
      "source": [
        "### Linear regression\n",
        "\n",
        "Great, now that we have predictions about student reasoning, we're interested in whether it's correlated with outcome measures. We can determine this using linear regression. Some outcome measures we might care about include the teacher's math instruction quality and value-added scores. We'll be using the math instruction quality for this part of the Colab, and you will use the value-added scores in the assignment.\n",
        "\n",
        "We run a linear regression model, clustering standard errors at the teacher level.\n",
        "The linear regression model is captured by this equation.\n",
        "\n",
        "$$y = x \\beta_1 + T\\beta_2 + S\\beta_3 + \\epsilon$$\n",
        "\n",
        "- $y$ is the dependent variable vector, shape: $\\mathbb{R}^{n}$ where $n$ is the number of transcripts from this teacher.\n",
        "- $x$ is the feature predictions (e.g., proportion of student reasoning), shape: $\\mathbb{R}^{n}$.\n",
        "- $T$ is a matrix of duplicated teacher covariates, shape: $\\mathbb{R}^{n \\times d_T}$ where $d_T$ is the number of teacher covariate features.\n",
        "  - teacher gender (discrete)\n",
        "  - teacher race/ethnicity (discrete)\n",
        "  - teacher years of experience (discrete)\n",
        "- $S$ is a matrix of student covariates in each transcript, shape: $\\mathbb{R}^{n \\times d_S}$ where $d_S$ is the number of student covariate features.\n",
        "  - student gender\n",
        "  - student race\n",
        "  - student free or reduced lunch status\n",
        "  - student special education status\n",
        "  - student limited English proficiency\n",
        "- $\\beta_1 \\in \\mathbb{R}^n, \\beta_2 \\in \\mathbb{R}^{d_T}, \\beta_3 \\in \\mathbb{R}^{d_S}$ are the unknown parameters of the linear regression model\n",
        "- $\\epsilon$ is the vector of residuals, shape $\\mathbb{R}^n$\n"
      ]
    },
    {
      "attachments": {},
      "cell_type": "markdown",
      "metadata": {
        "id": "124mSnVCAAbE"
      },
      "source": [
        "Before we can run linear regression, we need to prepare our data to contain the variables of interest: $y, x, T, S$. Let's do that below and put everything into a single dataframe.\n",
        "\n",
        "Note that the variables are on the (teacher, transcript) level. We'll structure the df appropriately."
      ]
    },
    {
      "cell_type": "code",
      "execution_count": null,
      "metadata": {
        "colab": {
          "base_uri": "https://localhost:8080/"
        },
        "id": "lSMRSPeiAVpZ",
        "outputId": "ac74491c-147f-4ae9-f4df-881f6f9766bd"
      },
      "outputs": [],
      "source": [
        "# Preparing the metadata from the correct observation folder\n",
        "fpath = os.path.join(DIR_PATH,'data/ICPSR_36095/DS0002/36095-0002-Data.tsv')\n",
        "mqi_metadata = pd.read_csv(fpath, sep='\\t')\n",
        "\n",
        "# We want to prepare the teacher metadata from HW1 too --- these are our teacher covariates\n",
        "# We are interested in: male black white asian hisp experience raceother\n",
        "fpath = os.path.join(DIR_PATH,'data/ICPSR_36095/DS0006/36095-0006-Data.tsv')\n",
        "teacher_metadata = pd.read_csv(fpath, sep='\\t')\n",
        "\n",
        "# And finally, we also want to prepare the student metadata.\n",
        "# We are interested in: s_male s_afam s_white s_hisp s_asian s_race_other s_frpl s_sped s_lep\n",
        "fpath = os.path.join(DIR_PATH,'data/ICPSR_36095/DS0005/36095-0005-Data.tsv')\n",
        "student_metadata = pd.read_csv(fpath, sep='\\t')\n",
        "\n",
        "# Our feature will be proportion of student reasoning."
      ]
    },
    {
      "cell_type": "code",
      "execution_count": null,
      "metadata": {
        "colab": {
          "base_uri": "https://localhost:8080/"
        },
        "id": "36R3p2ucAVrt",
        "outputId": "3b0c64fd-5d54-41c4-aed8-2d5f92af0786"
      },
      "outputs": [],
      "source": [
        "print(transcripts.columns)\n",
        "print(mqi_metadata.columns) # We're going to use `CHAPNUM` to determine the proportion of reasoning.\n",
        "print(teacher_metadata.columns)\n",
        "print(student_metadata.columns)\n",
        "\n",
        "print(mqi_metadata['NCTETID'].unique())\n",
        "print(teacher_metadata['NCTETID'].unique())\n",
        "print(student_metadata['NCTETID'].unique())"
      ]
    },
    {
      "cell_type": "code",
      "execution_count": null,
      "metadata": {
        "colab": {
          "base_uri": "https://localhost:8080/",
          "height": 694
        },
        "id": "102pA2KzAVuB",
        "outputId": "9e97426f-504b-4c34-d2bc-47fe56255962"
      },
      "outputs": [],
      "source": [
        "print(mqi_metadata['CHAPNUM'].unique())\n",
        "mqi_metadata[mqi_metadata['NCTETID'] == 2501][['OBSID', 'CHAPNUM', 'MQI5']]"
      ]
    },
    {
      "cell_type": "code",
      "execution_count": null,
      "metadata": {
        "id": "N0oaR12VAVwI"
      },
      "outputs": [],
      "source": [
        "mqi_metadata.loc[mqi_metadata['CHAPNUM'] == ' ', 'CHAPNUM'] = 0\n",
        "# Convert CHAPNUM to int\n",
        "mqi_metadata['CHAPNUM'] = mqi_metadata['CHAPNUM'].astype(int)\n",
        "mqi_metadata = mqi_metadata[~mqi_metadata['MQI5'].isin([999, 998])]"
      ]
    },
    {
      "cell_type": "code",
      "execution_count": null,
      "metadata": {
        "colab": {
          "base_uri": "https://localhost:8080/"
        },
        "id": "Uzh3wohSZUgg",
        "outputId": "2385275b-be19-4ca8-c634-309a93a2be55"
      },
      "outputs": [],
      "source": [
        "mqi_metadata['MQI5'].unique()"
      ]
    },
    {
      "attachments": {},
      "cell_type": "markdown",
      "metadata": {
        "id": "JBc4e7JBS8QV"
      },
      "source": [
        "Now let's construct a df that merges the outcomes, features, teacher metadata and student metadata all into one."
      ]
    },
    {
      "cell_type": "code",
      "execution_count": null,
      "metadata": {
        "id": "_VS41QA0AVyM"
      },
      "outputs": [],
      "source": [
        "OUTCOME_KEY = 'MQI5'\n",
        "TEACHER_ID_KEY = 'NCTETID'\n",
        "TRANSCRIPT_ID_KEY = 'OBSID'\n",
        "NUM_SEGMENT_KEY = 'CHAPNUM'\n",
        "STUDENT_REASONING_KEY = 'student_reasoning_pred'\n",
        "regression_df = []\n",
        "\n",
        "for teacher_id in mqi_metadata[TEACHER_ID_KEY].unique():\n",
        "  # Get all the mqi data from this teacher specifically\n",
        "  teacher_mqi_df = mqi_metadata[mqi_metadata[TEACHER_ID_KEY] == teacher_id]\n",
        "  for transcript_id in teacher_mqi_df[TRANSCRIPT_ID_KEY].unique():\n",
        "    teacher_transript_df = teacher_mqi_df[teacher_mqi_df[TRANSCRIPT_ID_KEY] == transcript_id]\n",
        "\n",
        "    # Determine y\n",
        "    y = teacher_transript_df[OUTCOME_KEY].mean()\n",
        "\n",
        "    if not len(transcripts[(transcripts[TRANSCRIPT_ID_KEY] == transcript_id)]):\n",
        "      continue\n",
        "\n",
        "    # Determine x\n",
        "    x = transcripts[(transcripts[TRANSCRIPT_ID_KEY] == transcript_id)][PREDICTION_OUTPUT_COLUMN].mean()\n",
        "\n",
        "    if teacher_id not in teacher_metadata[TEACHER_ID_KEY].unique():\n",
        "      continue\n",
        "    if teacher_id not in student_metadata[TEACHER_ID_KEY].unique():\n",
        "      continue\n",
        "\n",
        "    # Get teacher covariates\n",
        "    teacher_metadata_df = teacher_metadata[teacher_metadata[TEACHER_ID_KEY] == teacher_id]\n",
        "    # Make blank answers into 0\n",
        "    teacher_metadata_df.loc[teacher_metadata_df['MALE'] == ' ', 'MALE'] = 0\n",
        "    teacher_metadata_df.loc[teacher_metadata_df['BLACK'] == ' ', 'BLACK'] = 0\n",
        "    teacher_metadata_df.loc[teacher_metadata_df['WHITE'] == ' ', 'WHITE'] = 0\n",
        "    teacher_metadata_df.loc[teacher_metadata_df['HISP'] == ' ', 'HISP'] = 0\n",
        "    teacher_metadata_df.loc[teacher_metadata_df['ASIAN'] == ' ', 'ASIAN'] = 0\n",
        "    teacher_metadata_df.loc[teacher_metadata_df['EXPERIENCE'] == ' ', 'EXPERIENCE'] = 0\n",
        "    teacher_metadata_df.loc[teacher_metadata_df['RACEOTHER'] == ' ', 'RACEOTHER'] = 0\n",
        "    male = teacher_metadata_df['MALE'].mean()\n",
        "    black = teacher_metadata_df['BLACK'].mean()\n",
        "    white = teacher_metadata_df['WHITE'].mean()\n",
        "    asian = teacher_metadata_df['ASIAN'].mean()\n",
        "    hisp = teacher_metadata_df['HISP'].mean()\n",
        "    experience = teacher_metadata_df['EXPERIENCE'].mean()\n",
        "    raceother = teacher_metadata_df['RACEOTHER'].mean()\n",
        "\n",
        "    # Get student covariates\n",
        "    student_metadata_df = student_metadata[student_metadata[TEACHER_ID_KEY] == teacher_id]\n",
        "    # Make blank answers = 0\n",
        "    student_metadata_df.loc[student_metadata_df['S_MALE'] == ' ', 'S_MALE'] = 0\n",
        "    student_metadata_df.loc[student_metadata_df['S_AFAM'] == ' ', 'S_AFAM'] = 0\n",
        "    student_metadata_df.loc[student_metadata_df['S_WHITE'] == ' ', 'S_WHITE'] = 0\n",
        "    student_metadata_df.loc[student_metadata_df['S_HISP'] == ' ', 'S_HISP'] = 0\n",
        "    student_metadata_df.loc[student_metadata_df['S_ASIAN'] == ' ', 'S_ASIAN'] = 0\n",
        "    student_metadata_df.loc[student_metadata_df['S_RACE_OTHER'] == ' ', 'S_RACE_OTHER'] = 0\n",
        "    student_metadata_df.loc[student_metadata_df['S_FRPL'] == ' ', 'S_FRPL'] = 0\n",
        "    student_metadata_df.loc[student_metadata_df['S_SPED'] == ' ', 'S_SPED'] = 0\n",
        "    student_metadata_df.loc[student_metadata_df['S_LEP'] == ' ', 'S_LEP'] = 0\n",
        "\n",
        "    s_male = student_metadata_df['S_MALE'].astype(int).mean()\n",
        "    s_afam = student_metadata_df['S_AFAM'].astype(int).mean()\n",
        "    s_white = student_metadata_df['S_WHITE'].astype(int).mean()\n",
        "    s_hisp = student_metadata_df['S_HISP'].astype(int).mean()\n",
        "    s_asian = student_metadata_df['S_ASIAN'].astype(int).mean()\n",
        "    s_race_other = student_metadata_df['S_RACE_OTHER'].astype(int).mean()\n",
        "    s_frpl = student_metadata_df['S_FRPL'].astype(int).mean()\n",
        "    s_sped = student_metadata_df['S_SPED'].astype(int).mean()\n",
        "    s_lep = student_metadata_df['S_LEP'].astype(int).mean()\n",
        "\n",
        "    # Add to regression_df\n",
        "    result = {\n",
        "        'y': y,\n",
        "        'x': x,\n",
        "        'male': male,\n",
        "        'black': black,\n",
        "        'white': white,\n",
        "        'asian': asian,\n",
        "        'hisp': hisp,\n",
        "        'experience': experience,\n",
        "        'raceother': raceother,\n",
        "        's_male': s_male,\n",
        "        's_afam': s_afam,\n",
        "        's_white': s_white,\n",
        "        's_hisp': s_hisp,\n",
        "        's_asian': s_asian,\n",
        "        's_race_other': s_race_other,\n",
        "        's_frpl': s_race_other,\n",
        "        's_sped': s_sped,\n",
        "        's_lep': s_lep,\n",
        "        'teacher_id': teacher_id\n",
        "    }\n",
        "\n",
        "    regression_df.append(result)\n"
      ]
    },
    {
      "cell_type": "code",
      "execution_count": null,
      "metadata": {
        "colab": {
          "base_uri": "https://localhost:8080/"
        },
        "id": "SyaMvjRVAV0h",
        "outputId": "d791650e-ad5d-4340-cd26-63fd887f30c7"
      },
      "outputs": [],
      "source": [
        "print(len(regression_df))\n",
        "print(regression_df[0])\n",
        "regression_df = pd.DataFrame(regression_df)"
      ]
    },
    {
      "attachments": {},
      "cell_type": "markdown",
      "metadata": {
        "id": "BcpwubV3xipc"
      },
      "source": [
        "To run linear regression, we are going to use the statsmodel package."
      ]
    },
    {
      "cell_type": "code",
      "execution_count": null,
      "metadata": {
        "colab": {
          "base_uri": "https://localhost:8080/"
        },
        "id": "KG_a86DCxmI4",
        "outputId": "1a1935a3-4b72-4d67-9cad-41d5867d364b"
      },
      "outputs": [],
      "source": [
        "import statsmodels.formula.api as sm\n",
        "\n",
        "result = sm.mixedlm(\n",
        "    formula=\n",
        "\"\"\"y ~ x + male + experience + raceother + s_male\"\"\", data=regression_df, groups=regression_df['teacher_id']).fit()"
      ]
    },
    {
      "cell_type": "code",
      "execution_count": null,
      "metadata": {
        "colab": {
          "base_uri": "https://localhost:8080/",
          "height": 337
        },
        "id": "_QhEl3bLxmPH",
        "outputId": "bc9a31d3-444c-4997-9e53-fb0f2a37c54e"
      },
      "outputs": [],
      "source": [
        "result.summary()"
      ]
    },
    {
      "attachments": {},
      "cell_type": "markdown",
      "metadata": {
        "id": "OE-iwhXeTwON"
      },
      "source": [
        "## IMPORTANT: REPORT THE COEFFS UNDER THE ASSIGNMENT SECTION"
      ]
    },
    {
      "attachments": {},
      "cell_type": "markdown",
      "metadata": {
        "id": "ksbV8LRQdDc0"
      },
      "source": [
        "## Assignment\n",
        "\n",
        "0. Report the metrics from above\n",
        "1. Run linear regression where you specify all the covariates (teacher and student) & report feature coefficients.\n",
        "2. Run linear regression where the feature is now student words (proportion %) & report feature coefficients.\n",
        "\n",
        "\n",
        "and report the correlation of the features with outcomes on **Math Instruction Quality (MQI5)**\n"
      ]
    },
    {
      "attachments": {},
      "cell_type": "markdown",
      "metadata": {
        "id": "WIDoSN91xvo5"
      },
      "source": [
        "### 0. REPORT THE COEFF HERE\n",
        "\n",
        "Coeff with student reasoning: **REPLACE ME**"
      ]
    },
    {
      "attachments": {},
      "cell_type": "markdown",
      "metadata": {},
      "source": [
        "### 1. Run linear regression where you specify all the covariates (except for `raceother` and `s_race_other`) & report feature coefficients."
      ]
    },
    {
      "cell_type": "code",
      "execution_count": null,
      "metadata": {},
      "outputs": [],
      "source": [
        "# REPLACE ME WITH CODE"
      ]
    },
    {
      "cell_type": "code",
      "execution_count": null,
      "metadata": {},
      "outputs": [],
      "source": [
        "# REPLACE ME WITH FEATURE COEFFICIENT"
      ]
    },
    {
      "attachments": {},
      "cell_type": "markdown",
      "metadata": {
        "id": "ot0vCICnSxHh"
      },
      "source": [
        "### 2. Run linear regression where the feature is now\n",
        "\n",
        "- Student words (proportion %)"
      ]
    },
    {
      "cell_type": "code",
      "execution_count": null,
      "metadata": {
        "id": "97Y8eIHjSv8V"
      },
      "outputs": [],
      "source": [
        "# REPLACE ME WITH CODE"
      ]
    },
    {
      "cell_type": "code",
      "execution_count": null,
      "metadata": {
        "id": "iVp61UM_cboR"
      },
      "outputs": [],
      "source": [
        "# REPLACE ME WITH FEATURE COEFFICIENT"
      ]
    },
    {
      "attachments": {},
      "cell_type": "markdown",
      "metadata": {
        "id": "IJVpinXE8o_l"
      },
      "source": [
        "## Extra Assignment\n",
        "\n",
        "Here are some things you can do on the extra assignment.\n",
        "Note these problems are more open-ended than the previous problems.  \n",
        "You will be graded on whatever is pasted BELOW this section.\n",
        "Please specify which extra problems are you doing in your solution and be clear about your approach.\n",
        "\n",
        "\n",
        "1. Determine the predictors of high student reasoning (hint: variance decomposition).\n",
        "2. Characterize a temporal trend in the student reasoning data."
      ]
    },
    {
      "cell_type": "code",
      "execution_count": null,
      "metadata": {
        "id": "CLx4nQpr9fnE"
      },
      "outputs": [],
      "source": []
    }
  ],
  "metadata": {
    "accelerator": "TPU",
    "colab": {
      "provenance": []
    },
    "kernelspec": {
      "display_name": "Python 3",
      "name": "python3"
    },
    "language_info": {
      "codemirror_mode": {
        "name": "ipython",
        "version": 3
      },
      "file_extension": ".py",
      "mimetype": "text/x-python",
      "name": "python",
      "nbconvert_exporter": "python",
      "pygments_lexer": "ipython3",
      "version": "3.9.18"
    },
    "orig_nbformat": 4,
    "widgets": {
      "application/vnd.jupyter.widget-state+json": {
        "028d0e4e74ef4f7cb777e07996196119": {
          "model_module": "@jupyter-widgets/controls",
          "model_module_version": "1.5.0",
          "model_name": "DescriptionStyleModel",
          "state": {
            "_model_module": "@jupyter-widgets/controls",
            "_model_module_version": "1.5.0",
            "_model_name": "DescriptionStyleModel",
            "_view_count": null,
            "_view_module": "@jupyter-widgets/base",
            "_view_module_version": "1.2.0",
            "_view_name": "StyleView",
            "description_width": ""
          }
        },
        "0a8b5b76984e4296a1b6da9e56dc61f7": {
          "model_module": "@jupyter-widgets/base",
          "model_module_version": "1.2.0",
          "model_name": "LayoutModel",
          "state": {
            "_model_module": "@jupyter-widgets/base",
            "_model_module_version": "1.2.0",
            "_model_name": "LayoutModel",
            "_view_count": null,
            "_view_module": "@jupyter-widgets/base",
            "_view_module_version": "1.2.0",
            "_view_name": "LayoutView",
            "align_content": null,
            "align_items": null,
            "align_self": null,
            "border": null,
            "bottom": null,
            "display": null,
            "flex": null,
            "flex_flow": null,
            "grid_area": null,
            "grid_auto_columns": null,
            "grid_auto_flow": null,
            "grid_auto_rows": null,
            "grid_column": null,
            "grid_gap": null,
            "grid_row": null,
            "grid_template_areas": null,
            "grid_template_columns": null,
            "grid_template_rows": null,
            "height": null,
            "justify_content": null,
            "justify_items": null,
            "left": null,
            "margin": null,
            "max_height": null,
            "max_width": null,
            "min_height": null,
            "min_width": null,
            "object_fit": null,
            "object_position": null,
            "order": null,
            "overflow": null,
            "overflow_x": null,
            "overflow_y": null,
            "padding": null,
            "right": null,
            "top": null,
            "visibility": null,
            "width": null
          }
        },
        "16b16fbd67bd4a33aee480d3f612a8ca": {
          "model_module": "@jupyter-widgets/base",
          "model_module_version": "1.2.0",
          "model_name": "LayoutModel",
          "state": {
            "_model_module": "@jupyter-widgets/base",
            "_model_module_version": "1.2.0",
            "_model_name": "LayoutModel",
            "_view_count": null,
            "_view_module": "@jupyter-widgets/base",
            "_view_module_version": "1.2.0",
            "_view_name": "LayoutView",
            "align_content": null,
            "align_items": null,
            "align_self": null,
            "border": null,
            "bottom": null,
            "display": null,
            "flex": null,
            "flex_flow": null,
            "grid_area": null,
            "grid_auto_columns": null,
            "grid_auto_flow": null,
            "grid_auto_rows": null,
            "grid_column": null,
            "grid_gap": null,
            "grid_row": null,
            "grid_template_areas": null,
            "grid_template_columns": null,
            "grid_template_rows": null,
            "height": null,
            "justify_content": null,
            "justify_items": null,
            "left": null,
            "margin": null,
            "max_height": null,
            "max_width": null,
            "min_height": null,
            "min_width": null,
            "object_fit": null,
            "object_position": null,
            "order": null,
            "overflow": null,
            "overflow_x": null,
            "overflow_y": null,
            "padding": null,
            "right": null,
            "top": null,
            "visibility": null,
            "width": null
          }
        },
        "1983f5d1f9064d1c9c37fa70fa60198b": {
          "model_module": "@jupyter-widgets/controls",
          "model_module_version": "1.5.0",
          "model_name": "HTMLModel",
          "state": {
            "_dom_classes": [],
            "_model_module": "@jupyter-widgets/controls",
            "_model_module_version": "1.5.0",
            "_model_name": "HTMLModel",
            "_view_count": null,
            "_view_module": "@jupyter-widgets/controls",
            "_view_module_version": "1.5.0",
            "_view_name": "HTMLView",
            "description": "",
            "description_tooltip": null,
            "layout": "IPY_MODEL_cd534cab7b174c22963ff2956a7a4795",
            "placeholder": "​",
            "style": "IPY_MODEL_aa6259ce9b4545649c5ff31a693c9e4e",
            "value": "Downloading (…)lve/main/config.json: 100%"
          }
        },
        "27d9e5a27afc40afa39429f3526a106a": {
          "model_module": "@jupyter-widgets/controls",
          "model_module_version": "1.5.0",
          "model_name": "HBoxModel",
          "state": {
            "_dom_classes": [],
            "_model_module": "@jupyter-widgets/controls",
            "_model_module_version": "1.5.0",
            "_model_name": "HBoxModel",
            "_view_count": null,
            "_view_module": "@jupyter-widgets/controls",
            "_view_module_version": "1.5.0",
            "_view_name": "HBoxView",
            "box_style": "",
            "children": [
              "IPY_MODEL_8a68195d2eff4fc09f81eacaa3daea1d",
              "IPY_MODEL_966fcad571734a09a8232de852cf9668",
              "IPY_MODEL_fded8d3c8b2e4d5ca9ab9cd3a505a915"
            ],
            "layout": "IPY_MODEL_16b16fbd67bd4a33aee480d3f612a8ca"
          }
        },
        "27fbabd266ee4556ba45490594a06fe0": {
          "model_module": "@jupyter-widgets/controls",
          "model_module_version": "1.5.0",
          "model_name": "HBoxModel",
          "state": {
            "_dom_classes": [],
            "_model_module": "@jupyter-widgets/controls",
            "_model_module_version": "1.5.0",
            "_model_name": "HBoxModel",
            "_view_count": null,
            "_view_module": "@jupyter-widgets/controls",
            "_view_module_version": "1.5.0",
            "_view_name": "HBoxView",
            "box_style": "",
            "children": [
              "IPY_MODEL_4cb0e4e0bea74c8c943a3fef6af58ee4",
              "IPY_MODEL_749b449586944b6d82f8838d47c38096",
              "IPY_MODEL_51e9102e8f074ad7aa67a0376b03c69e"
            ],
            "layout": "IPY_MODEL_617c381ead6c4c6a904da088c7320d0a"
          }
        },
        "2c7b9d64623540fa8dd6a9ce3461713c": {
          "model_module": "@jupyter-widgets/base",
          "model_module_version": "1.2.0",
          "model_name": "LayoutModel",
          "state": {
            "_model_module": "@jupyter-widgets/base",
            "_model_module_version": "1.2.0",
            "_model_name": "LayoutModel",
            "_view_count": null,
            "_view_module": "@jupyter-widgets/base",
            "_view_module_version": "1.2.0",
            "_view_name": "LayoutView",
            "align_content": null,
            "align_items": null,
            "align_self": null,
            "border": null,
            "bottom": null,
            "display": null,
            "flex": null,
            "flex_flow": null,
            "grid_area": null,
            "grid_auto_columns": null,
            "grid_auto_flow": null,
            "grid_auto_rows": null,
            "grid_column": null,
            "grid_gap": null,
            "grid_row": null,
            "grid_template_areas": null,
            "grid_template_columns": null,
            "grid_template_rows": null,
            "height": null,
            "justify_content": null,
            "justify_items": null,
            "left": null,
            "margin": null,
            "max_height": null,
            "max_width": null,
            "min_height": null,
            "min_width": null,
            "object_fit": null,
            "object_position": null,
            "order": null,
            "overflow": null,
            "overflow_x": null,
            "overflow_y": null,
            "padding": null,
            "right": null,
            "top": null,
            "visibility": null,
            "width": null
          }
        },
        "40b784071c17446aab68e829220034ea": {
          "model_module": "@jupyter-widgets/controls",
          "model_module_version": "1.5.0",
          "model_name": "HTMLModel",
          "state": {
            "_dom_classes": [],
            "_model_module": "@jupyter-widgets/controls",
            "_model_module_version": "1.5.0",
            "_model_name": "HTMLModel",
            "_view_count": null,
            "_view_module": "@jupyter-widgets/controls",
            "_view_module_version": "1.5.0",
            "_view_name": "HTMLView",
            "description": "",
            "description_tooltip": null,
            "layout": "IPY_MODEL_7f56e761d11f49848eb306c6838040c9",
            "placeholder": "​",
            "style": "IPY_MODEL_c87cd5555cd7408daa95689ee258b73f",
            "value": " 124/124 [00:00&lt;00:00, 1.42kB/s]"
          }
        },
        "40d1514b652a4cc093dca8d6a2f79987": {
          "model_module": "@jupyter-widgets/controls",
          "model_module_version": "1.5.0",
          "model_name": "DescriptionStyleModel",
          "state": {
            "_model_module": "@jupyter-widgets/controls",
            "_model_module_version": "1.5.0",
            "_model_name": "DescriptionStyleModel",
            "_view_count": null,
            "_view_module": "@jupyter-widgets/base",
            "_view_module_version": "1.2.0",
            "_view_name": "StyleView",
            "description_width": ""
          }
        },
        "4aba033035374dd5b40d9f96f93c715b": {
          "model_module": "@jupyter-widgets/controls",
          "model_module_version": "1.5.0",
          "model_name": "HBoxModel",
          "state": {
            "_dom_classes": [],
            "_model_module": "@jupyter-widgets/controls",
            "_model_module_version": "1.5.0",
            "_model_name": "HBoxModel",
            "_view_count": null,
            "_view_module": "@jupyter-widgets/controls",
            "_view_module_version": "1.5.0",
            "_view_name": "HBoxView",
            "box_style": "",
            "children": [
              "IPY_MODEL_1983f5d1f9064d1c9c37fa70fa60198b",
              "IPY_MODEL_c962b47fc0dd4390aa5f6b3fd61628fa",
              "IPY_MODEL_5777c4335d7c4acaad387647a687bcad"
            ],
            "layout": "IPY_MODEL_701e9bdc97b74b2196e70bc1430710f1"
          }
        },
        "4cb0e4e0bea74c8c943a3fef6af58ee4": {
          "model_module": "@jupyter-widgets/controls",
          "model_module_version": "1.5.0",
          "model_name": "HTMLModel",
          "state": {
            "_dom_classes": [],
            "_model_module": "@jupyter-widgets/controls",
            "_model_module_version": "1.5.0",
            "_model_name": "HTMLModel",
            "_view_count": null,
            "_view_module": "@jupyter-widgets/controls",
            "_view_module_version": "1.5.0",
            "_view_name": "HTMLView",
            "description": "",
            "description_tooltip": null,
            "layout": "IPY_MODEL_cbc1a6185c8d458a9faa0af4cf78916b",
            "placeholder": "​",
            "style": "IPY_MODEL_bea1af66fbf1450483432ea302fdb254",
            "value": "Downloading pytorch_model.bin: 100%"
          }
        },
        "4dae0b35d62c480785c3e6141c5c0759": {
          "model_module": "@jupyter-widgets/base",
          "model_module_version": "1.2.0",
          "model_name": "LayoutModel",
          "state": {
            "_model_module": "@jupyter-widgets/base",
            "_model_module_version": "1.2.0",
            "_model_name": "LayoutModel",
            "_view_count": null,
            "_view_module": "@jupyter-widgets/base",
            "_view_module_version": "1.2.0",
            "_view_name": "LayoutView",
            "align_content": null,
            "align_items": null,
            "align_self": null,
            "border": null,
            "bottom": null,
            "display": null,
            "flex": null,
            "flex_flow": null,
            "grid_area": null,
            "grid_auto_columns": null,
            "grid_auto_flow": null,
            "grid_auto_rows": null,
            "grid_column": null,
            "grid_gap": null,
            "grid_row": null,
            "grid_template_areas": null,
            "grid_template_columns": null,
            "grid_template_rows": null,
            "height": null,
            "justify_content": null,
            "justify_items": null,
            "left": null,
            "margin": null,
            "max_height": null,
            "max_width": null,
            "min_height": null,
            "min_width": null,
            "object_fit": null,
            "object_position": null,
            "order": null,
            "overflow": null,
            "overflow_x": null,
            "overflow_y": null,
            "padding": null,
            "right": null,
            "top": null,
            "visibility": null,
            "width": null
          }
        },
        "51e9102e8f074ad7aa67a0376b03c69e": {
          "model_module": "@jupyter-widgets/controls",
          "model_module_version": "1.5.0",
          "model_name": "HTMLModel",
          "state": {
            "_dom_classes": [],
            "_model_module": "@jupyter-widgets/controls",
            "_model_module_version": "1.5.0",
            "_model_name": "HTMLModel",
            "_view_count": null,
            "_view_module": "@jupyter-widgets/controls",
            "_view_module_version": "1.5.0",
            "_view_name": "HTMLView",
            "description": "",
            "description_tooltip": null,
            "layout": "IPY_MODEL_7192a975ecc8495f81d66c06e7b3452a",
            "placeholder": "​",
            "style": "IPY_MODEL_67d28222a8554e2fb8a09a99b86dacb2",
            "value": " 438M/438M [00:09&lt;00:00, 48.0MB/s]"
          }
        },
        "525f1ae7d66d4bd0b24ac438fe720aa6": {
          "model_module": "@jupyter-widgets/controls",
          "model_module_version": "1.5.0",
          "model_name": "ProgressStyleModel",
          "state": {
            "_model_module": "@jupyter-widgets/controls",
            "_model_module_version": "1.5.0",
            "_model_name": "ProgressStyleModel",
            "_view_count": null,
            "_view_module": "@jupyter-widgets/base",
            "_view_module_version": "1.2.0",
            "_view_name": "StyleView",
            "bar_color": null,
            "description_width": ""
          }
        },
        "55f9c5c89acf479da9437926bcc313cd": {
          "model_module": "@jupyter-widgets/base",
          "model_module_version": "1.2.0",
          "model_name": "LayoutModel",
          "state": {
            "_model_module": "@jupyter-widgets/base",
            "_model_module_version": "1.2.0",
            "_model_name": "LayoutModel",
            "_view_count": null,
            "_view_module": "@jupyter-widgets/base",
            "_view_module_version": "1.2.0",
            "_view_name": "LayoutView",
            "align_content": null,
            "align_items": null,
            "align_self": null,
            "border": null,
            "bottom": null,
            "display": null,
            "flex": null,
            "flex_flow": null,
            "grid_area": null,
            "grid_auto_columns": null,
            "grid_auto_flow": null,
            "grid_auto_rows": null,
            "grid_column": null,
            "grid_gap": null,
            "grid_row": null,
            "grid_template_areas": null,
            "grid_template_columns": null,
            "grid_template_rows": null,
            "height": null,
            "justify_content": null,
            "justify_items": null,
            "left": null,
            "margin": null,
            "max_height": null,
            "max_width": null,
            "min_height": null,
            "min_width": null,
            "object_fit": null,
            "object_position": null,
            "order": null,
            "overflow": null,
            "overflow_x": null,
            "overflow_y": null,
            "padding": null,
            "right": null,
            "top": null,
            "visibility": null,
            "width": null
          }
        },
        "56d564e6d1cc4897b5cca5fd3085f5c2": {
          "model_module": "@jupyter-widgets/base",
          "model_module_version": "1.2.0",
          "model_name": "LayoutModel",
          "state": {
            "_model_module": "@jupyter-widgets/base",
            "_model_module_version": "1.2.0",
            "_model_name": "LayoutModel",
            "_view_count": null,
            "_view_module": "@jupyter-widgets/base",
            "_view_module_version": "1.2.0",
            "_view_name": "LayoutView",
            "align_content": null,
            "align_items": null,
            "align_self": null,
            "border": null,
            "bottom": null,
            "display": null,
            "flex": null,
            "flex_flow": null,
            "grid_area": null,
            "grid_auto_columns": null,
            "grid_auto_flow": null,
            "grid_auto_rows": null,
            "grid_column": null,
            "grid_gap": null,
            "grid_row": null,
            "grid_template_areas": null,
            "grid_template_columns": null,
            "grid_template_rows": null,
            "height": null,
            "justify_content": null,
            "justify_items": null,
            "left": null,
            "margin": null,
            "max_height": null,
            "max_width": null,
            "min_height": null,
            "min_width": null,
            "object_fit": null,
            "object_position": null,
            "order": null,
            "overflow": null,
            "overflow_x": null,
            "overflow_y": null,
            "padding": null,
            "right": null,
            "top": null,
            "visibility": null,
            "width": null
          }
        },
        "5777c4335d7c4acaad387647a687bcad": {
          "model_module": "@jupyter-widgets/controls",
          "model_module_version": "1.5.0",
          "model_name": "HTMLModel",
          "state": {
            "_dom_classes": [],
            "_model_module": "@jupyter-widgets/controls",
            "_model_module_version": "1.5.0",
            "_model_name": "HTMLModel",
            "_view_count": null,
            "_view_module": "@jupyter-widgets/controls",
            "_view_module_version": "1.5.0",
            "_view_name": "HTMLView",
            "description": "",
            "description_tooltip": null,
            "layout": "IPY_MODEL_2c7b9d64623540fa8dd6a9ce3461713c",
            "placeholder": "​",
            "style": "IPY_MODEL_c64979394e194ebb8fee0648d71245cd",
            "value": " 778/778 [00:00&lt;00:00, 9.34kB/s]"
          }
        },
        "5efb36e221684d1184efe54a3e536f83": {
          "model_module": "@jupyter-widgets/base",
          "model_module_version": "1.2.0",
          "model_name": "LayoutModel",
          "state": {
            "_model_module": "@jupyter-widgets/base",
            "_model_module_version": "1.2.0",
            "_model_name": "LayoutModel",
            "_view_count": null,
            "_view_module": "@jupyter-widgets/base",
            "_view_module_version": "1.2.0",
            "_view_name": "LayoutView",
            "align_content": null,
            "align_items": null,
            "align_self": null,
            "border": null,
            "bottom": null,
            "display": null,
            "flex": null,
            "flex_flow": null,
            "grid_area": null,
            "grid_auto_columns": null,
            "grid_auto_flow": null,
            "grid_auto_rows": null,
            "grid_column": null,
            "grid_gap": null,
            "grid_row": null,
            "grid_template_areas": null,
            "grid_template_columns": null,
            "grid_template_rows": null,
            "height": null,
            "justify_content": null,
            "justify_items": null,
            "left": null,
            "margin": null,
            "max_height": null,
            "max_width": null,
            "min_height": null,
            "min_width": null,
            "object_fit": null,
            "object_position": null,
            "order": null,
            "overflow": null,
            "overflow_x": null,
            "overflow_y": null,
            "padding": null,
            "right": null,
            "top": null,
            "visibility": null,
            "width": null
          }
        },
        "617c381ead6c4c6a904da088c7320d0a": {
          "model_module": "@jupyter-widgets/base",
          "model_module_version": "1.2.0",
          "model_name": "LayoutModel",
          "state": {
            "_model_module": "@jupyter-widgets/base",
            "_model_module_version": "1.2.0",
            "_model_name": "LayoutModel",
            "_view_count": null,
            "_view_module": "@jupyter-widgets/base",
            "_view_module_version": "1.2.0",
            "_view_name": "LayoutView",
            "align_content": null,
            "align_items": null,
            "align_self": null,
            "border": null,
            "bottom": null,
            "display": null,
            "flex": null,
            "flex_flow": null,
            "grid_area": null,
            "grid_auto_columns": null,
            "grid_auto_flow": null,
            "grid_auto_rows": null,
            "grid_column": null,
            "grid_gap": null,
            "grid_row": null,
            "grid_template_areas": null,
            "grid_template_columns": null,
            "grid_template_rows": null,
            "height": null,
            "justify_content": null,
            "justify_items": null,
            "left": null,
            "margin": null,
            "max_height": null,
            "max_width": null,
            "min_height": null,
            "min_width": null,
            "object_fit": null,
            "object_position": null,
            "order": null,
            "overflow": null,
            "overflow_x": null,
            "overflow_y": null,
            "padding": null,
            "right": null,
            "top": null,
            "visibility": null,
            "width": null
          }
        },
        "667452d294344f0892ea799a27bcefbd": {
          "model_module": "@jupyter-widgets/controls",
          "model_module_version": "1.5.0",
          "model_name": "ProgressStyleModel",
          "state": {
            "_model_module": "@jupyter-widgets/controls",
            "_model_module_version": "1.5.0",
            "_model_name": "ProgressStyleModel",
            "_view_count": null,
            "_view_module": "@jupyter-widgets/base",
            "_view_module_version": "1.2.0",
            "_view_name": "StyleView",
            "bar_color": null,
            "description_width": ""
          }
        },
        "67d28222a8554e2fb8a09a99b86dacb2": {
          "model_module": "@jupyter-widgets/controls",
          "model_module_version": "1.5.0",
          "model_name": "DescriptionStyleModel",
          "state": {
            "_model_module": "@jupyter-widgets/controls",
            "_model_module_version": "1.5.0",
            "_model_name": "DescriptionStyleModel",
            "_view_count": null,
            "_view_module": "@jupyter-widgets/base",
            "_view_module_version": "1.2.0",
            "_view_name": "StyleView",
            "description_width": ""
          }
        },
        "6b4e9333cb6744c4a51da761bb7321bd": {
          "model_module": "@jupyter-widgets/controls",
          "model_module_version": "1.5.0",
          "model_name": "DescriptionStyleModel",
          "state": {
            "_model_module": "@jupyter-widgets/controls",
            "_model_module_version": "1.5.0",
            "_model_name": "DescriptionStyleModel",
            "_view_count": null,
            "_view_module": "@jupyter-widgets/base",
            "_view_module_version": "1.2.0",
            "_view_name": "StyleView",
            "description_width": ""
          }
        },
        "6d5f0eec1e7b42d0baaa828dca089ed2": {
          "model_module": "@jupyter-widgets/controls",
          "model_module_version": "1.5.0",
          "model_name": "DescriptionStyleModel",
          "state": {
            "_model_module": "@jupyter-widgets/controls",
            "_model_module_version": "1.5.0",
            "_model_name": "DescriptionStyleModel",
            "_view_count": null,
            "_view_module": "@jupyter-widgets/base",
            "_view_module_version": "1.2.0",
            "_view_name": "StyleView",
            "description_width": ""
          }
        },
        "701e9bdc97b74b2196e70bc1430710f1": {
          "model_module": "@jupyter-widgets/base",
          "model_module_version": "1.2.0",
          "model_name": "LayoutModel",
          "state": {
            "_model_module": "@jupyter-widgets/base",
            "_model_module_version": "1.2.0",
            "_model_name": "LayoutModel",
            "_view_count": null,
            "_view_module": "@jupyter-widgets/base",
            "_view_module_version": "1.2.0",
            "_view_name": "LayoutView",
            "align_content": null,
            "align_items": null,
            "align_self": null,
            "border": null,
            "bottom": null,
            "display": null,
            "flex": null,
            "flex_flow": null,
            "grid_area": null,
            "grid_auto_columns": null,
            "grid_auto_flow": null,
            "grid_auto_rows": null,
            "grid_column": null,
            "grid_gap": null,
            "grid_row": null,
            "grid_template_areas": null,
            "grid_template_columns": null,
            "grid_template_rows": null,
            "height": null,
            "justify_content": null,
            "justify_items": null,
            "left": null,
            "margin": null,
            "max_height": null,
            "max_width": null,
            "min_height": null,
            "min_width": null,
            "object_fit": null,
            "object_position": null,
            "order": null,
            "overflow": null,
            "overflow_x": null,
            "overflow_y": null,
            "padding": null,
            "right": null,
            "top": null,
            "visibility": null,
            "width": null
          }
        },
        "7192a975ecc8495f81d66c06e7b3452a": {
          "model_module": "@jupyter-widgets/base",
          "model_module_version": "1.2.0",
          "model_name": "LayoutModel",
          "state": {
            "_model_module": "@jupyter-widgets/base",
            "_model_module_version": "1.2.0",
            "_model_name": "LayoutModel",
            "_view_count": null,
            "_view_module": "@jupyter-widgets/base",
            "_view_module_version": "1.2.0",
            "_view_name": "LayoutView",
            "align_content": null,
            "align_items": null,
            "align_self": null,
            "border": null,
            "bottom": null,
            "display": null,
            "flex": null,
            "flex_flow": null,
            "grid_area": null,
            "grid_auto_columns": null,
            "grid_auto_flow": null,
            "grid_auto_rows": null,
            "grid_column": null,
            "grid_gap": null,
            "grid_row": null,
            "grid_template_areas": null,
            "grid_template_columns": null,
            "grid_template_rows": null,
            "height": null,
            "justify_content": null,
            "justify_items": null,
            "left": null,
            "margin": null,
            "max_height": null,
            "max_width": null,
            "min_height": null,
            "min_width": null,
            "object_fit": null,
            "object_position": null,
            "order": null,
            "overflow": null,
            "overflow_x": null,
            "overflow_y": null,
            "padding": null,
            "right": null,
            "top": null,
            "visibility": null,
            "width": null
          }
        },
        "749b449586944b6d82f8838d47c38096": {
          "model_module": "@jupyter-widgets/controls",
          "model_module_version": "1.5.0",
          "model_name": "FloatProgressModel",
          "state": {
            "_dom_classes": [],
            "_model_module": "@jupyter-widgets/controls",
            "_model_module_version": "1.5.0",
            "_model_name": "FloatProgressModel",
            "_view_count": null,
            "_view_module": "@jupyter-widgets/controls",
            "_view_module_version": "1.5.0",
            "_view_name": "ProgressView",
            "bar_style": "success",
            "description": "",
            "description_tooltip": null,
            "layout": "IPY_MODEL_ae9933c6593546bd908df7163e873aea",
            "max": 438007925,
            "min": 0,
            "orientation": "horizontal",
            "style": "IPY_MODEL_bacd9d45176349018fbc28db0d045593",
            "value": 438007925
          }
        },
        "7591d19b77274801b6ba2c2d4652a969": {
          "model_module": "@jupyter-widgets/controls",
          "model_module_version": "1.5.0",
          "model_name": "HBoxModel",
          "state": {
            "_dom_classes": [],
            "_model_module": "@jupyter-widgets/controls",
            "_model_module_version": "1.5.0",
            "_model_name": "HBoxModel",
            "_view_count": null,
            "_view_module": "@jupyter-widgets/controls",
            "_view_module_version": "1.5.0",
            "_view_name": "HBoxView",
            "box_style": "",
            "children": [
              "IPY_MODEL_de862daa651544e8886ae4839d9d2e8a",
              "IPY_MODEL_ad6ae8f87a6047f980fed617aca0e134",
              "IPY_MODEL_40b784071c17446aab68e829220034ea"
            ],
            "layout": "IPY_MODEL_55f9c5c89acf479da9437926bcc313cd"
          }
        },
        "762c37a45c2e4a30a246a8eb1ebf1a5f": {
          "model_module": "@jupyter-widgets/base",
          "model_module_version": "1.2.0",
          "model_name": "LayoutModel",
          "state": {
            "_model_module": "@jupyter-widgets/base",
            "_model_module_version": "1.2.0",
            "_model_name": "LayoutModel",
            "_view_count": null,
            "_view_module": "@jupyter-widgets/base",
            "_view_module_version": "1.2.0",
            "_view_name": "LayoutView",
            "align_content": null,
            "align_items": null,
            "align_self": null,
            "border": null,
            "bottom": null,
            "display": null,
            "flex": null,
            "flex_flow": null,
            "grid_area": null,
            "grid_auto_columns": null,
            "grid_auto_flow": null,
            "grid_auto_rows": null,
            "grid_column": null,
            "grid_gap": null,
            "grid_row": null,
            "grid_template_areas": null,
            "grid_template_columns": null,
            "grid_template_rows": null,
            "height": null,
            "justify_content": null,
            "justify_items": null,
            "left": null,
            "margin": null,
            "max_height": null,
            "max_width": null,
            "min_height": null,
            "min_width": null,
            "object_fit": null,
            "object_position": null,
            "order": null,
            "overflow": null,
            "overflow_x": null,
            "overflow_y": null,
            "padding": null,
            "right": null,
            "top": null,
            "visibility": null,
            "width": null
          }
        },
        "7f0c2e683a2e40b7bcd00f778020cba5": {
          "model_module": "@jupyter-widgets/base",
          "model_module_version": "1.2.0",
          "model_name": "LayoutModel",
          "state": {
            "_model_module": "@jupyter-widgets/base",
            "_model_module_version": "1.2.0",
            "_model_name": "LayoutModel",
            "_view_count": null,
            "_view_module": "@jupyter-widgets/base",
            "_view_module_version": "1.2.0",
            "_view_name": "LayoutView",
            "align_content": null,
            "align_items": null,
            "align_self": null,
            "border": null,
            "bottom": null,
            "display": null,
            "flex": null,
            "flex_flow": null,
            "grid_area": null,
            "grid_auto_columns": null,
            "grid_auto_flow": null,
            "grid_auto_rows": null,
            "grid_column": null,
            "grid_gap": null,
            "grid_row": null,
            "grid_template_areas": null,
            "grid_template_columns": null,
            "grid_template_rows": null,
            "height": null,
            "justify_content": null,
            "justify_items": null,
            "left": null,
            "margin": null,
            "max_height": null,
            "max_width": null,
            "min_height": null,
            "min_width": null,
            "object_fit": null,
            "object_position": null,
            "order": null,
            "overflow": null,
            "overflow_x": null,
            "overflow_y": null,
            "padding": null,
            "right": null,
            "top": null,
            "visibility": null,
            "width": null
          }
        },
        "7f56e761d11f49848eb306c6838040c9": {
          "model_module": "@jupyter-widgets/base",
          "model_module_version": "1.2.0",
          "model_name": "LayoutModel",
          "state": {
            "_model_module": "@jupyter-widgets/base",
            "_model_module_version": "1.2.0",
            "_model_name": "LayoutModel",
            "_view_count": null,
            "_view_module": "@jupyter-widgets/base",
            "_view_module_version": "1.2.0",
            "_view_name": "LayoutView",
            "align_content": null,
            "align_items": null,
            "align_self": null,
            "border": null,
            "bottom": null,
            "display": null,
            "flex": null,
            "flex_flow": null,
            "grid_area": null,
            "grid_auto_columns": null,
            "grid_auto_flow": null,
            "grid_auto_rows": null,
            "grid_column": null,
            "grid_gap": null,
            "grid_row": null,
            "grid_template_areas": null,
            "grid_template_columns": null,
            "grid_template_rows": null,
            "height": null,
            "justify_content": null,
            "justify_items": null,
            "left": null,
            "margin": null,
            "max_height": null,
            "max_width": null,
            "min_height": null,
            "min_width": null,
            "object_fit": null,
            "object_position": null,
            "order": null,
            "overflow": null,
            "overflow_x": null,
            "overflow_y": null,
            "padding": null,
            "right": null,
            "top": null,
            "visibility": null,
            "width": null
          }
        },
        "88321bbd63c2465e8eaf0045d7e017a8": {
          "model_module": "@jupyter-widgets/controls",
          "model_module_version": "1.5.0",
          "model_name": "HTMLModel",
          "state": {
            "_dom_classes": [],
            "_model_module": "@jupyter-widgets/controls",
            "_model_module_version": "1.5.0",
            "_model_name": "HTMLModel",
            "_view_count": null,
            "_view_module": "@jupyter-widgets/controls",
            "_view_module_version": "1.5.0",
            "_view_name": "HTMLView",
            "description": "",
            "description_tooltip": null,
            "layout": "IPY_MODEL_0a8b5b76984e4296a1b6da9e56dc61f7",
            "placeholder": "​",
            "style": "IPY_MODEL_6d5f0eec1e7b42d0baaa828dca089ed2",
            "value": " 429/429 [00:00&lt;00:00, 13.2kB/s]"
          }
        },
        "8a68195d2eff4fc09f81eacaa3daea1d": {
          "model_module": "@jupyter-widgets/controls",
          "model_module_version": "1.5.0",
          "model_name": "HTMLModel",
          "state": {
            "_dom_classes": [],
            "_model_module": "@jupyter-widgets/controls",
            "_model_module_version": "1.5.0",
            "_model_name": "HTMLModel",
            "_view_count": null,
            "_view_module": "@jupyter-widgets/controls",
            "_view_module_version": "1.5.0",
            "_view_name": "HTMLView",
            "description": "",
            "description_tooltip": null,
            "layout": "IPY_MODEL_56d564e6d1cc4897b5cca5fd3085f5c2",
            "placeholder": "​",
            "style": "IPY_MODEL_d9d165acca904c628da6489c1a43c4ef",
            "value": "Downloading (…)solve/main/vocab.txt: 100%"
          }
        },
        "9405329e054d42a1a8ac2e9bafea8b4b": {
          "model_module": "@jupyter-widgets/base",
          "model_module_version": "1.2.0",
          "model_name": "LayoutModel",
          "state": {
            "_model_module": "@jupyter-widgets/base",
            "_model_module_version": "1.2.0",
            "_model_name": "LayoutModel",
            "_view_count": null,
            "_view_module": "@jupyter-widgets/base",
            "_view_module_version": "1.2.0",
            "_view_name": "LayoutView",
            "align_content": null,
            "align_items": null,
            "align_self": null,
            "border": null,
            "bottom": null,
            "display": null,
            "flex": null,
            "flex_flow": null,
            "grid_area": null,
            "grid_auto_columns": null,
            "grid_auto_flow": null,
            "grid_auto_rows": null,
            "grid_column": null,
            "grid_gap": null,
            "grid_row": null,
            "grid_template_areas": null,
            "grid_template_columns": null,
            "grid_template_rows": null,
            "height": null,
            "justify_content": null,
            "justify_items": null,
            "left": null,
            "margin": null,
            "max_height": null,
            "max_width": null,
            "min_height": null,
            "min_width": null,
            "object_fit": null,
            "object_position": null,
            "order": null,
            "overflow": null,
            "overflow_x": null,
            "overflow_y": null,
            "padding": null,
            "right": null,
            "top": null,
            "visibility": null,
            "width": null
          }
        },
        "966fcad571734a09a8232de852cf9668": {
          "model_module": "@jupyter-widgets/controls",
          "model_module_version": "1.5.0",
          "model_name": "FloatProgressModel",
          "state": {
            "_dom_classes": [],
            "_model_module": "@jupyter-widgets/controls",
            "_model_module_version": "1.5.0",
            "_model_name": "FloatProgressModel",
            "_view_count": null,
            "_view_module": "@jupyter-widgets/controls",
            "_view_module_version": "1.5.0",
            "_view_name": "ProgressView",
            "bar_style": "success",
            "description": "",
            "description_tooltip": null,
            "layout": "IPY_MODEL_5efb36e221684d1184efe54a3e536f83",
            "max": 237661,
            "min": 0,
            "orientation": "horizontal",
            "style": "IPY_MODEL_525f1ae7d66d4bd0b24ac438fe720aa6",
            "value": 237661
          }
        },
        "a49f233aa8ba4b298db2581599fa0886": {
          "model_module": "@jupyter-widgets/controls",
          "model_module_version": "1.5.0",
          "model_name": "HBoxModel",
          "state": {
            "_dom_classes": [],
            "_model_module": "@jupyter-widgets/controls",
            "_model_module_version": "1.5.0",
            "_model_name": "HBoxModel",
            "_view_count": null,
            "_view_module": "@jupyter-widgets/controls",
            "_view_module_version": "1.5.0",
            "_view_name": "HBoxView",
            "box_style": "",
            "children": [
              "IPY_MODEL_f000c9126c3f45ec8eeb3f1aa598b707",
              "IPY_MODEL_b384a022884d449282f1a3a7034e7d13",
              "IPY_MODEL_88321bbd63c2465e8eaf0045d7e017a8"
            ],
            "layout": "IPY_MODEL_bb35bbce749c48c1bd8cc9371b9ece21"
          }
        },
        "aa6259ce9b4545649c5ff31a693c9e4e": {
          "model_module": "@jupyter-widgets/controls",
          "model_module_version": "1.5.0",
          "model_name": "DescriptionStyleModel",
          "state": {
            "_model_module": "@jupyter-widgets/controls",
            "_model_module_version": "1.5.0",
            "_model_name": "DescriptionStyleModel",
            "_view_count": null,
            "_view_module": "@jupyter-widgets/base",
            "_view_module_version": "1.2.0",
            "_view_name": "StyleView",
            "description_width": ""
          }
        },
        "ab8f0501e7d54c09967c8187d127c8ec": {
          "model_module": "@jupyter-widgets/controls",
          "model_module_version": "1.5.0",
          "model_name": "ProgressStyleModel",
          "state": {
            "_model_module": "@jupyter-widgets/controls",
            "_model_module_version": "1.5.0",
            "_model_name": "ProgressStyleModel",
            "_view_count": null,
            "_view_module": "@jupyter-widgets/base",
            "_view_module_version": "1.2.0",
            "_view_name": "StyleView",
            "bar_color": null,
            "description_width": ""
          }
        },
        "ad6ae8f87a6047f980fed617aca0e134": {
          "model_module": "@jupyter-widgets/controls",
          "model_module_version": "1.5.0",
          "model_name": "FloatProgressModel",
          "state": {
            "_dom_classes": [],
            "_model_module": "@jupyter-widgets/controls",
            "_model_module_version": "1.5.0",
            "_model_name": "FloatProgressModel",
            "_view_count": null,
            "_view_module": "@jupyter-widgets/controls",
            "_view_module_version": "1.5.0",
            "_view_name": "ProgressView",
            "bar_style": "success",
            "description": "",
            "description_tooltip": null,
            "layout": "IPY_MODEL_7f0c2e683a2e40b7bcd00f778020cba5",
            "max": 124,
            "min": 0,
            "orientation": "horizontal",
            "style": "IPY_MODEL_667452d294344f0892ea799a27bcefbd",
            "value": 124
          }
        },
        "ae9933c6593546bd908df7163e873aea": {
          "model_module": "@jupyter-widgets/base",
          "model_module_version": "1.2.0",
          "model_name": "LayoutModel",
          "state": {
            "_model_module": "@jupyter-widgets/base",
            "_model_module_version": "1.2.0",
            "_model_name": "LayoutModel",
            "_view_count": null,
            "_view_module": "@jupyter-widgets/base",
            "_view_module_version": "1.2.0",
            "_view_name": "LayoutView",
            "align_content": null,
            "align_items": null,
            "align_self": null,
            "border": null,
            "bottom": null,
            "display": null,
            "flex": null,
            "flex_flow": null,
            "grid_area": null,
            "grid_auto_columns": null,
            "grid_auto_flow": null,
            "grid_auto_rows": null,
            "grid_column": null,
            "grid_gap": null,
            "grid_row": null,
            "grid_template_areas": null,
            "grid_template_columns": null,
            "grid_template_rows": null,
            "height": null,
            "justify_content": null,
            "justify_items": null,
            "left": null,
            "margin": null,
            "max_height": null,
            "max_width": null,
            "min_height": null,
            "min_width": null,
            "object_fit": null,
            "object_position": null,
            "order": null,
            "overflow": null,
            "overflow_x": null,
            "overflow_y": null,
            "padding": null,
            "right": null,
            "top": null,
            "visibility": null,
            "width": null
          }
        },
        "b384a022884d449282f1a3a7034e7d13": {
          "model_module": "@jupyter-widgets/controls",
          "model_module_version": "1.5.0",
          "model_name": "FloatProgressModel",
          "state": {
            "_dom_classes": [],
            "_model_module": "@jupyter-widgets/controls",
            "_model_module_version": "1.5.0",
            "_model_name": "FloatProgressModel",
            "_view_count": null,
            "_view_module": "@jupyter-widgets/controls",
            "_view_module_version": "1.5.0",
            "_view_name": "ProgressView",
            "bar_style": "success",
            "description": "",
            "description_tooltip": null,
            "layout": "IPY_MODEL_bf0fca890f7a4669bc1d05619fdccefb",
            "max": 429,
            "min": 0,
            "orientation": "horizontal",
            "style": "IPY_MODEL_ab8f0501e7d54c09967c8187d127c8ec",
            "value": 429
          }
        },
        "bacd9d45176349018fbc28db0d045593": {
          "model_module": "@jupyter-widgets/controls",
          "model_module_version": "1.5.0",
          "model_name": "ProgressStyleModel",
          "state": {
            "_model_module": "@jupyter-widgets/controls",
            "_model_module_version": "1.5.0",
            "_model_name": "ProgressStyleModel",
            "_view_count": null,
            "_view_module": "@jupyter-widgets/base",
            "_view_module_version": "1.2.0",
            "_view_name": "StyleView",
            "bar_color": null,
            "description_width": ""
          }
        },
        "bb35bbce749c48c1bd8cc9371b9ece21": {
          "model_module": "@jupyter-widgets/base",
          "model_module_version": "1.2.0",
          "model_name": "LayoutModel",
          "state": {
            "_model_module": "@jupyter-widgets/base",
            "_model_module_version": "1.2.0",
            "_model_name": "LayoutModel",
            "_view_count": null,
            "_view_module": "@jupyter-widgets/base",
            "_view_module_version": "1.2.0",
            "_view_name": "LayoutView",
            "align_content": null,
            "align_items": null,
            "align_self": null,
            "border": null,
            "bottom": null,
            "display": null,
            "flex": null,
            "flex_flow": null,
            "grid_area": null,
            "grid_auto_columns": null,
            "grid_auto_flow": null,
            "grid_auto_rows": null,
            "grid_column": null,
            "grid_gap": null,
            "grid_row": null,
            "grid_template_areas": null,
            "grid_template_columns": null,
            "grid_template_rows": null,
            "height": null,
            "justify_content": null,
            "justify_items": null,
            "left": null,
            "margin": null,
            "max_height": null,
            "max_width": null,
            "min_height": null,
            "min_width": null,
            "object_fit": null,
            "object_position": null,
            "order": null,
            "overflow": null,
            "overflow_x": null,
            "overflow_y": null,
            "padding": null,
            "right": null,
            "top": null,
            "visibility": null,
            "width": null
          }
        },
        "bea1af66fbf1450483432ea302fdb254": {
          "model_module": "@jupyter-widgets/controls",
          "model_module_version": "1.5.0",
          "model_name": "DescriptionStyleModel",
          "state": {
            "_model_module": "@jupyter-widgets/controls",
            "_model_module_version": "1.5.0",
            "_model_name": "DescriptionStyleModel",
            "_view_count": null,
            "_view_module": "@jupyter-widgets/base",
            "_view_module_version": "1.2.0",
            "_view_name": "StyleView",
            "description_width": ""
          }
        },
        "bf0fca890f7a4669bc1d05619fdccefb": {
          "model_module": "@jupyter-widgets/base",
          "model_module_version": "1.2.0",
          "model_name": "LayoutModel",
          "state": {
            "_model_module": "@jupyter-widgets/base",
            "_model_module_version": "1.2.0",
            "_model_name": "LayoutModel",
            "_view_count": null,
            "_view_module": "@jupyter-widgets/base",
            "_view_module_version": "1.2.0",
            "_view_name": "LayoutView",
            "align_content": null,
            "align_items": null,
            "align_self": null,
            "border": null,
            "bottom": null,
            "display": null,
            "flex": null,
            "flex_flow": null,
            "grid_area": null,
            "grid_auto_columns": null,
            "grid_auto_flow": null,
            "grid_auto_rows": null,
            "grid_column": null,
            "grid_gap": null,
            "grid_row": null,
            "grid_template_areas": null,
            "grid_template_columns": null,
            "grid_template_rows": null,
            "height": null,
            "justify_content": null,
            "justify_items": null,
            "left": null,
            "margin": null,
            "max_height": null,
            "max_width": null,
            "min_height": null,
            "min_width": null,
            "object_fit": null,
            "object_position": null,
            "order": null,
            "overflow": null,
            "overflow_x": null,
            "overflow_y": null,
            "padding": null,
            "right": null,
            "top": null,
            "visibility": null,
            "width": null
          }
        },
        "c64979394e194ebb8fee0648d71245cd": {
          "model_module": "@jupyter-widgets/controls",
          "model_module_version": "1.5.0",
          "model_name": "DescriptionStyleModel",
          "state": {
            "_model_module": "@jupyter-widgets/controls",
            "_model_module_version": "1.5.0",
            "_model_name": "DescriptionStyleModel",
            "_view_count": null,
            "_view_module": "@jupyter-widgets/base",
            "_view_module_version": "1.2.0",
            "_view_name": "StyleView",
            "description_width": ""
          }
        },
        "c87cd5555cd7408daa95689ee258b73f": {
          "model_module": "@jupyter-widgets/controls",
          "model_module_version": "1.5.0",
          "model_name": "DescriptionStyleModel",
          "state": {
            "_model_module": "@jupyter-widgets/controls",
            "_model_module_version": "1.5.0",
            "_model_name": "DescriptionStyleModel",
            "_view_count": null,
            "_view_module": "@jupyter-widgets/base",
            "_view_module_version": "1.2.0",
            "_view_name": "StyleView",
            "description_width": ""
          }
        },
        "c962b47fc0dd4390aa5f6b3fd61628fa": {
          "model_module": "@jupyter-widgets/controls",
          "model_module_version": "1.5.0",
          "model_name": "FloatProgressModel",
          "state": {
            "_dom_classes": [],
            "_model_module": "@jupyter-widgets/controls",
            "_model_module_version": "1.5.0",
            "_model_name": "FloatProgressModel",
            "_view_count": null,
            "_view_module": "@jupyter-widgets/controls",
            "_view_module_version": "1.5.0",
            "_view_name": "ProgressView",
            "bar_style": "success",
            "description": "",
            "description_tooltip": null,
            "layout": "IPY_MODEL_4dae0b35d62c480785c3e6141c5c0759",
            "max": 778,
            "min": 0,
            "orientation": "horizontal",
            "style": "IPY_MODEL_ce88f66c909f445989dacefc46e0bfe3",
            "value": 778
          }
        },
        "cbc1a6185c8d458a9faa0af4cf78916b": {
          "model_module": "@jupyter-widgets/base",
          "model_module_version": "1.2.0",
          "model_name": "LayoutModel",
          "state": {
            "_model_module": "@jupyter-widgets/base",
            "_model_module_version": "1.2.0",
            "_model_name": "LayoutModel",
            "_view_count": null,
            "_view_module": "@jupyter-widgets/base",
            "_view_module_version": "1.2.0",
            "_view_name": "LayoutView",
            "align_content": null,
            "align_items": null,
            "align_self": null,
            "border": null,
            "bottom": null,
            "display": null,
            "flex": null,
            "flex_flow": null,
            "grid_area": null,
            "grid_auto_columns": null,
            "grid_auto_flow": null,
            "grid_auto_rows": null,
            "grid_column": null,
            "grid_gap": null,
            "grid_row": null,
            "grid_template_areas": null,
            "grid_template_columns": null,
            "grid_template_rows": null,
            "height": null,
            "justify_content": null,
            "justify_items": null,
            "left": null,
            "margin": null,
            "max_height": null,
            "max_width": null,
            "min_height": null,
            "min_width": null,
            "object_fit": null,
            "object_position": null,
            "order": null,
            "overflow": null,
            "overflow_x": null,
            "overflow_y": null,
            "padding": null,
            "right": null,
            "top": null,
            "visibility": null,
            "width": null
          }
        },
        "cd534cab7b174c22963ff2956a7a4795": {
          "model_module": "@jupyter-widgets/base",
          "model_module_version": "1.2.0",
          "model_name": "LayoutModel",
          "state": {
            "_model_module": "@jupyter-widgets/base",
            "_model_module_version": "1.2.0",
            "_model_name": "LayoutModel",
            "_view_count": null,
            "_view_module": "@jupyter-widgets/base",
            "_view_module_version": "1.2.0",
            "_view_name": "LayoutView",
            "align_content": null,
            "align_items": null,
            "align_self": null,
            "border": null,
            "bottom": null,
            "display": null,
            "flex": null,
            "flex_flow": null,
            "grid_area": null,
            "grid_auto_columns": null,
            "grid_auto_flow": null,
            "grid_auto_rows": null,
            "grid_column": null,
            "grid_gap": null,
            "grid_row": null,
            "grid_template_areas": null,
            "grid_template_columns": null,
            "grid_template_rows": null,
            "height": null,
            "justify_content": null,
            "justify_items": null,
            "left": null,
            "margin": null,
            "max_height": null,
            "max_width": null,
            "min_height": null,
            "min_width": null,
            "object_fit": null,
            "object_position": null,
            "order": null,
            "overflow": null,
            "overflow_x": null,
            "overflow_y": null,
            "padding": null,
            "right": null,
            "top": null,
            "visibility": null,
            "width": null
          }
        },
        "ce88f66c909f445989dacefc46e0bfe3": {
          "model_module": "@jupyter-widgets/controls",
          "model_module_version": "1.5.0",
          "model_name": "ProgressStyleModel",
          "state": {
            "_model_module": "@jupyter-widgets/controls",
            "_model_module_version": "1.5.0",
            "_model_name": "ProgressStyleModel",
            "_view_count": null,
            "_view_module": "@jupyter-widgets/base",
            "_view_module_version": "1.2.0",
            "_view_name": "StyleView",
            "bar_color": null,
            "description_width": ""
          }
        },
        "d4273246ab6242578666b68795e2b748": {
          "model_module": "@jupyter-widgets/base",
          "model_module_version": "1.2.0",
          "model_name": "LayoutModel",
          "state": {
            "_model_module": "@jupyter-widgets/base",
            "_model_module_version": "1.2.0",
            "_model_name": "LayoutModel",
            "_view_count": null,
            "_view_module": "@jupyter-widgets/base",
            "_view_module_version": "1.2.0",
            "_view_name": "LayoutView",
            "align_content": null,
            "align_items": null,
            "align_self": null,
            "border": null,
            "bottom": null,
            "display": null,
            "flex": null,
            "flex_flow": null,
            "grid_area": null,
            "grid_auto_columns": null,
            "grid_auto_flow": null,
            "grid_auto_rows": null,
            "grid_column": null,
            "grid_gap": null,
            "grid_row": null,
            "grid_template_areas": null,
            "grid_template_columns": null,
            "grid_template_rows": null,
            "height": null,
            "justify_content": null,
            "justify_items": null,
            "left": null,
            "margin": null,
            "max_height": null,
            "max_width": null,
            "min_height": null,
            "min_width": null,
            "object_fit": null,
            "object_position": null,
            "order": null,
            "overflow": null,
            "overflow_x": null,
            "overflow_y": null,
            "padding": null,
            "right": null,
            "top": null,
            "visibility": null,
            "width": null
          }
        },
        "d9d165acca904c628da6489c1a43c4ef": {
          "model_module": "@jupyter-widgets/controls",
          "model_module_version": "1.5.0",
          "model_name": "DescriptionStyleModel",
          "state": {
            "_model_module": "@jupyter-widgets/controls",
            "_model_module_version": "1.5.0",
            "_model_name": "DescriptionStyleModel",
            "_view_count": null,
            "_view_module": "@jupyter-widgets/base",
            "_view_module_version": "1.2.0",
            "_view_name": "StyleView",
            "description_width": ""
          }
        },
        "de862daa651544e8886ae4839d9d2e8a": {
          "model_module": "@jupyter-widgets/controls",
          "model_module_version": "1.5.0",
          "model_name": "HTMLModel",
          "state": {
            "_dom_classes": [],
            "_model_module": "@jupyter-widgets/controls",
            "_model_module_version": "1.5.0",
            "_model_name": "HTMLModel",
            "_view_count": null,
            "_view_module": "@jupyter-widgets/controls",
            "_view_module_version": "1.5.0",
            "_view_name": "HTMLView",
            "description": "",
            "description_tooltip": null,
            "layout": "IPY_MODEL_9405329e054d42a1a8ac2e9bafea8b4b",
            "placeholder": "​",
            "style": "IPY_MODEL_028d0e4e74ef4f7cb777e07996196119",
            "value": "Downloading (…)cial_tokens_map.json: 100%"
          }
        },
        "f000c9126c3f45ec8eeb3f1aa598b707": {
          "model_module": "@jupyter-widgets/controls",
          "model_module_version": "1.5.0",
          "model_name": "HTMLModel",
          "state": {
            "_dom_classes": [],
            "_model_module": "@jupyter-widgets/controls",
            "_model_module_version": "1.5.0",
            "_model_name": "HTMLModel",
            "_view_count": null,
            "_view_module": "@jupyter-widgets/controls",
            "_view_module_version": "1.5.0",
            "_view_name": "HTMLView",
            "description": "",
            "description_tooltip": null,
            "layout": "IPY_MODEL_d4273246ab6242578666b68795e2b748",
            "placeholder": "​",
            "style": "IPY_MODEL_40d1514b652a4cc093dca8d6a2f79987",
            "value": "Downloading (…)okenizer_config.json: 100%"
          }
        },
        "fded8d3c8b2e4d5ca9ab9cd3a505a915": {
          "model_module": "@jupyter-widgets/controls",
          "model_module_version": "1.5.0",
          "model_name": "HTMLModel",
          "state": {
            "_dom_classes": [],
            "_model_module": "@jupyter-widgets/controls",
            "_model_module_version": "1.5.0",
            "_model_name": "HTMLModel",
            "_view_count": null,
            "_view_module": "@jupyter-widgets/controls",
            "_view_module_version": "1.5.0",
            "_view_name": "HTMLView",
            "description": "",
            "description_tooltip": null,
            "layout": "IPY_MODEL_762c37a45c2e4a30a246a8eb1ebf1a5f",
            "placeholder": "​",
            "style": "IPY_MODEL_6b4e9333cb6744c4a51da761bb7321bd",
            "value": " 238k/238k [00:00&lt;00:00, 1.79MB/s]"
          }
        }
      }
    }
  },
  "nbformat": 4,
  "nbformat_minor": 0
}
